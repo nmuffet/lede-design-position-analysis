{
 "cells": [
  {
   "cell_type": "markdown",
   "id": "e5fc1f87",
   "metadata": {
    "papermill": {
     "duration": 0.003615,
     "end_time": "2025-04-04T22:15:28.791170",
     "exception": false,
     "start_time": "2025-04-04T22:15:28.787555",
     "status": "completed"
    },
    "tags": []
   },
   "source": [
    "The dataset in this notebook was originally scraped and compiled [here](https://www.kaggle.com/datasets/arshkon/linkedin-job-postings)."
   ]
  },
  {
   "cell_type": "code",
   "execution_count": 14,
   "id": "c5e89928",
   "metadata": {
    "execution": {
     "iopub.execute_input": "2025-04-04T22:15:28.799925Z",
     "iopub.status.busy": "2025-04-04T22:15:28.799554Z",
     "iopub.status.idle": "2025-04-04T22:15:29.931813Z",
     "shell.execute_reply": "2025-04-04T22:15:29.930570Z"
    },
    "papermill": {
     "duration": 1.138772,
     "end_time": "2025-04-04T22:15:29.934037",
     "exception": false,
     "start_time": "2025-04-04T22:15:28.795265",
     "status": "completed"
    },
    "tags": []
   },
   "outputs": [],
   "source": [
    "import pandas as pd\n",
    "import os"
   ]
  },
  {
   "cell_type": "code",
   "execution_count": 15,
   "id": "4dd06591",
   "metadata": {
    "execution": {
     "iopub.execute_input": "2025-04-04T22:15:29.941514Z",
     "iopub.status.busy": "2025-04-04T22:15:29.940908Z",
     "iopub.status.idle": "2025-04-04T22:15:44.425562Z",
     "shell.execute_reply": "2025-04-04T22:15:44.423863Z"
    },
    "papermill": {
     "duration": 14.490999,
     "end_time": "2025-04-04T22:15:44.428140",
     "exception": false,
     "start_time": "2025-04-04T22:15:29.937141",
     "status": "completed"
    },
    "tags": []
   },
   "outputs": [
    {
     "name": "stdout",
     "output_type": "stream",
     "text": [
      "Original data file not present. Original data source from https://www.kaggle.com/datasets/arshkon/linkedin-job-postings. Use split files instead to reconstruct.\n",
      "CSVs combined successfully!\n",
      "     job_id            company_name  \\\n",
      "0    921716   Corcoran Sawyer Smith   \n",
      "1   1829192                     NaN   \n",
      "2  10998357  The National Exemplar    \n",
      "3  23221523  Abrams Fensterman, LLP   \n",
      "4  35982263                     NaN   \n",
      "\n",
      "                                               title  \\\n",
      "0                              Marketing Coordinator   \n",
      "1                  Mental Health Therapist/Counselor   \n",
      "2                        Assitant Restaurant Manager   \n",
      "3  Senior Elder Law / Trusts and Estates Associat...   \n",
      "4                                 Service Technician   \n",
      "\n",
      "                                         description  max_salary pay_period  \\\n",
      "0  Job descriptionA leading real estate firm in N...        20.0     HOURLY   \n",
      "1  At Aspen Therapy and Wellness , we are committ...        50.0     HOURLY   \n",
      "2  The National Exemplar is accepting application...     65000.0     YEARLY   \n",
      "3  Senior Associate Attorney - Elder Law / Trusts...    175000.0     YEARLY   \n",
      "4  Looking for HVAC service tech with experience ...     80000.0     YEARLY   \n",
      "\n",
      "            location  company_id  views  med_salary  ...  \\\n",
      "0      Princeton, NJ   2774458.0   20.0         NaN  ...   \n",
      "1   Fort Collins, CO         NaN    1.0         NaN  ...   \n",
      "2     Cincinnati, OH  64896719.0    8.0         NaN  ...   \n",
      "3  New Hyde Park, NY    766262.0   16.0         NaN  ...   \n",
      "4     Burlington, IA         NaN    3.0         NaN  ...   \n",
      "\n",
      "                                         skills_desc   listed_time  \\\n",
      "0  Requirements: \\n\\nWe are seeking a College or ...  1.713398e+12   \n",
      "1                                                NaN  1.712858e+12   \n",
      "2  We are currently accepting resumes for FOH - A...  1.713278e+12   \n",
      "3  This position requires a baseline understandin...  1.712896e+12   \n",
      "4                                                NaN  1.713452e+12   \n",
      "\n",
      "   posting_domain  sponsored  work_type currency compensation_type  \\\n",
      "0             NaN          0  FULL_TIME      USD       BASE_SALARY   \n",
      "1             NaN          0  FULL_TIME      USD       BASE_SALARY   \n",
      "2             NaN          0  FULL_TIME      USD       BASE_SALARY   \n",
      "3             NaN          0  FULL_TIME      USD       BASE_SALARY   \n",
      "4             NaN          0  FULL_TIME      USD       BASE_SALARY   \n",
      "\n",
      "  normalized_salary  zip_code     fips  \n",
      "0           38480.0    8540.0  34021.0  \n",
      "1           83200.0   80521.0   8069.0  \n",
      "2           55000.0   45202.0  39061.0  \n",
      "3          157500.0   11040.0  36059.0  \n",
      "4           70000.0   52601.0  19057.0  \n",
      "\n",
      "[5 rows x 31 columns]\n",
      "Total rows in combined dataframe: 123849\n"
     ]
    }
   ],
   "source": [
    "try:\n",
    "    df_src = pd.read_csv('src/postings.csv')\n",
    "    df_src.head()\n",
    "    df_src.shape\n",
    "\n",
    "    splitter =5000\n",
    "    strt = 0\n",
    "    stp = splitter\n",
    "\n",
    "    while stp < (df_src.shape[0]+splitter):\n",
    "        try:\n",
    "            temp_df = df_src.iloc[strt:stp,:]\n",
    "            print(strt)\n",
    "            print(stp)\n",
    "            print(f'split/{strt}-{stp}.csv')\n",
    "            temp_df.to_csv(f'split/{strt}-{stp}.csv', index=False)\n",
    "            strt += splitter\n",
    "            stp += splitter\n",
    "        except:\n",
    "            print('Error')\n",
    "except:\n",
    "    print('Original data file not present. Original data source from https://www.kaggle.com/datasets/arshkon/linkedin-job-postings. Use split files instead to reconstruct.')\n",
    "finally:\n",
    "    # 1. Specify the path to your folder containing the CSV files\n",
    "    folder_path = 'split'\n",
    "\n",
    "    # 2. Get a list of all files in the directory that end with .csv\n",
    "    csv_files = [f for f in os.listdir(folder_path)]\n",
    "\n",
    "    # 3. Create an empty list to hold the individual dataframes\n",
    "    df_list = []\n",
    "\n",
    "    # 4. Loop through the list of files, read each one into a dataframe, and append it to the list\n",
    "    for file in csv_files:\n",
    "        file_path = os.path.join(folder_path, file)\n",
    "        try:\n",
    "            df = pd.read_csv(file_path)\n",
    "            df_list.append(df)\n",
    "        except Exception as e:\n",
    "            print(f\"Could not read file {file} because of error: {e}\")\n",
    "\n",
    "    # 5. Concatenate all dataframes in the list into a single dataframe\n",
    "    if df_list:\n",
    "        combined_df = pd.concat(df_list, ignore_index=True)\n",
    "        df = combined_df\n",
    "        print(\"CSVs combined successfully!\")\n",
    "        print(combined_df.head())\n",
    "        print(f\"Total rows in combined dataframe: {len(combined_df)}\")\n",
    "    else:\n",
    "        print(\"No CSV files found or read.\")\n"
   ]
  },
  {
   "cell_type": "code",
   "execution_count": 16,
   "id": "a002e187",
   "metadata": {},
   "outputs": [
    {
     "data": {
      "application/vnd.microsoft.datawrangler.viewer.v0+json": {
       "columns": [
        {
         "name": "index",
         "rawType": "int64",
         "type": "integer"
        },
        {
         "name": "job_id",
         "rawType": "int64",
         "type": "integer"
        },
        {
         "name": "company_name",
         "rawType": "object",
         "type": "unknown"
        },
        {
         "name": "title",
         "rawType": "object",
         "type": "string"
        },
        {
         "name": "description",
         "rawType": "object",
         "type": "string"
        },
        {
         "name": "max_salary",
         "rawType": "float64",
         "type": "float"
        },
        {
         "name": "pay_period",
         "rawType": "object",
         "type": "string"
        },
        {
         "name": "location",
         "rawType": "object",
         "type": "string"
        },
        {
         "name": "company_id",
         "rawType": "float64",
         "type": "float"
        },
        {
         "name": "views",
         "rawType": "float64",
         "type": "float"
        },
        {
         "name": "med_salary",
         "rawType": "float64",
         "type": "float"
        },
        {
         "name": "min_salary",
         "rawType": "float64",
         "type": "float"
        },
        {
         "name": "formatted_work_type",
         "rawType": "object",
         "type": "string"
        },
        {
         "name": "applies",
         "rawType": "float64",
         "type": "float"
        },
        {
         "name": "original_listed_time",
         "rawType": "float64",
         "type": "float"
        },
        {
         "name": "remote_allowed",
         "rawType": "float64",
         "type": "float"
        },
        {
         "name": "job_posting_url",
         "rawType": "object",
         "type": "string"
        },
        {
         "name": "application_url",
         "rawType": "object",
         "type": "unknown"
        },
        {
         "name": "application_type",
         "rawType": "object",
         "type": "string"
        },
        {
         "name": "expiry",
         "rawType": "float64",
         "type": "float"
        },
        {
         "name": "closed_time",
         "rawType": "float64",
         "type": "float"
        },
        {
         "name": "formatted_experience_level",
         "rawType": "object",
         "type": "unknown"
        },
        {
         "name": "skills_desc",
         "rawType": "object",
         "type": "unknown"
        },
        {
         "name": "listed_time",
         "rawType": "float64",
         "type": "float"
        },
        {
         "name": "posting_domain",
         "rawType": "object",
         "type": "unknown"
        },
        {
         "name": "sponsored",
         "rawType": "int64",
         "type": "integer"
        },
        {
         "name": "work_type",
         "rawType": "object",
         "type": "string"
        },
        {
         "name": "currency",
         "rawType": "object",
         "type": "string"
        },
        {
         "name": "compensation_type",
         "rawType": "object",
         "type": "string"
        },
        {
         "name": "normalized_salary",
         "rawType": "float64",
         "type": "float"
        },
        {
         "name": "zip_code",
         "rawType": "float64",
         "type": "float"
        },
        {
         "name": "fips",
         "rawType": "float64",
         "type": "float"
        }
       ],
       "ref": "c3bd59d5-b510-4e21-85da-cfc7b6244bc1",
       "rows": [
        [
         "0",
         "921716",
         "Corcoran Sawyer Smith",
         "Marketing Coordinator",
         "Job descriptionA leading real estate firm in New Jersey is seeking an administrative Marketing Coordinator with some experience in graphic design. You will be working closely with our fun, kind, ambitious members of the sales team and our dynamic executive team on a daily basis. This is an opportunity to be part of a fast-growing, highly respected real estate brokerage with a reputation for exceptional marketing and extraordinary culture of cooperation and inclusion.Who you are:You must be a well-organized, creative, proactive, positive, and most importantly, kind-hearted person. Please, be responsible, respectful, and cool-under-pressure. Please, be proficient in Adobe Creative Cloud (Indesign, Illustrator, Photoshop) and Microsoft Office Suite. Above all, have fantastic taste and be a good-hearted, fun-loving person who loves working with people and is eager to learn.Role:Our office is a fast-paced environment. You’ll work directly with a Marketing team and communicate daily with other core staff and our large team of agents. This description is a brief overview, but your skills and interests will be considered in what you work on and as the role evolves over time.Agent Assistance- Receive & Organize Marketing Requests from Agents- Track Tasks & Communicate with Marketing team & Agents on Status- Prepare print materials and signs for open houses- Submit Orders to Printers & Communicate & Track DeadlinesGraphic Design & Branding- Managing brand strategy and messaging through website, social media, videos, online advertising, print placement and events- Receive, organize, and prioritize marketing requests from agents- Fulfill agent design requests including postcards, signs, email marketing and property brochures using pre-existing templates and creating custom designs- Maintain brand assets and generic filesEvents & Community- Plan and execute events and promotions- Manage Contacts & Vendors for Event Planning & SponsorshipsOur company is committed to creating a diverse environment and is proud to be an equal opportunity employer. All qualified applicants will receive consideration for employment without regard to race, color, religion, gender, gender identity or expression, sexual orientation, national origin, genetics, disability, age, or veteran status.Job Type: Full-time\nPay: $18-20/hour\nExpected hours: 35 – 45 per week\nBenefits:Paid time offSchedule:8 hour shiftMonday to FridayExperience:Marketing: 1 year (Preferred)Graphic design: 2 years (Preferred)Work Location: In person\n",
         "20.0",
         "HOURLY",
         "Princeton, NJ",
         "2774458.0",
         "20.0",
         null,
         "17.0",
         "Full-time",
         "2.0",
         "1713397508000.0",
         null,
         "https://www.linkedin.com/jobs/view/921716/?trk=jobs_biz_prem_srch",
         null,
         "ComplexOnsiteApply",
         "1715989508000.0",
         null,
         null,
         "Requirements: \n\nWe are seeking a College or Graduate Student (can also be completed with school) with a focus in Planning, Architecture, Real Estate Development or Management or General Business. Must be able to work in an extremely fast paced environment and able to multitask and prioritize.",
         "1713397508000.0",
         null,
         "0",
         "FULL_TIME",
         "USD",
         "BASE_SALARY",
         "38480.0",
         "8540.0",
         "34021.0"
        ],
        [
         "1",
         "1829192",
         null,
         "Mental Health Therapist/Counselor",
         "At Aspen Therapy and Wellness , we are committed to serving clients with best practices to help them with change, improvements and better quality of life. We believe in providing a secure, supportive environment to grow as a clinician and learn how to foster longevity in the career which is part of our mission statement.\nThank you for taking the time to explore a career with us. We are excited to be a new group practice in the community. If you are looking for quality supervision as you work towards licensure and ability to serve populations while accepting a variety of insurance panels, we may be a good fit. Our supervisors are trained in EMDR and utilize a parts work perspective with a trauma lens.\nWe are actively looking to hire a therapist in the area who is passionate about working with adults and committed to growth and excellence in the field. We are located in Old Town Square, Fort Collins.\nWe value and are strengthened by diversity and desire a warm and welcoming place for all people. We believe in racial and ethnic equality, gender equity and social inclusion.\nPosition Requirement Possibilities:A graduate level psychological counseling-related degreeMasters of Social Work (MSW/LSW)Licensed Professional Counselor Candidate (LPCC)Clinical Social worker (LCSW)Professional Counselor (LPC)Marriage/Family Therapist (LMFT)Relating to this?Wanting to deliver high quality mental healthcareSeeking quality supervision and growth in a healthy environmentWhat we offer:Flexible work scheduleW2 Employment - commission basedBuilding to full time workJump of 5% in commission as well as monthly bonus/stipend once full timeWeekly supervision providedPaid weekly team meetings $30/hrTwo paid wellness hours/month $30/hrTelemedicine and in-person flexibilitySupportive work environment with direct access to two supervisorsAdministrative supportApproved professional development training providedFully automated EHR and technology supportStrong work/life balanceJob Duties:Conducting intake assessmentsDeveloping and implementing treatment plans for clients based on assessment and coordinating any additional services needed, revising as necessaryConducting individual sessions as appropriate for the treatment plan of the patientApplying psychotherapeutic techniques and interventions in the delivery of services to individuals for the purpose of treating emotional and behavioral disorders that have been diagnosed in assessmentParticipating in team meetings in order to staff new cases. Presenting appropriate patient information to the team. Recommending effective treatment interventions.Building and maintaining an active caseload with assigned clientsCompleting timely progress notes and treatment updates in the EHR. Maintaining all clinical documentation in accordance with regulatory and accrediting standardsProviding crisis intervention to patients in acute distress and referring as neededPerforming case management and discharge planning as neededExcellent communication and interpersonal skillsCompassionate and empathetic approach to patient carePlease send resume and cover letter to info@aspentherapyandwellness.com\nAbout Aspen Therapy and Wellness LLCAspen Therapy and Wellness is a mental health services provider focusing on work with adults in an outpatient setting, working with a variety of mental health issues both in-person in Old Town Fort Collins and throughout the state of Colorado via telehealth services.\nPlease note that this job description is not exhaustive and additional duties may be assigned as needed.",
         "50.0",
         "HOURLY",
         "Fort Collins, CO",
         null,
         "1.0",
         null,
         "30.0",
         "Full-time",
         null,
         "1712857887000.0",
         null,
         "https://www.linkedin.com/jobs/view/1829192/?trk=jobs_biz_prem_srch",
         null,
         "ComplexOnsiteApply",
         "1715449887000.0",
         null,
         null,
         null,
         "1712857887000.0",
         null,
         "0",
         "FULL_TIME",
         "USD",
         "BASE_SALARY",
         "83200.0",
         "80521.0",
         "8069.0"
        ],
        [
         "2",
         "10998357",
         "The National Exemplar ",
         "Assitant Restaurant Manager",
         "The National Exemplar is accepting applications for an Assistant Restaurant Manager.\nWe offer highly competitive wages, healthcare, paid time off, complimentary dining privileges and bonus opportunities. \nWe are a serious, professional, long-standing neighborhood restaurant with over 41 years of service. If you are looking for a long-term fit with a best in class organization then you should apply now. \nPlease send a resumes to pardom@nationalexemplar.com. o",
         "65000.0",
         "YEARLY",
         "Cincinnati, OH",
         "64896719.0",
         "8.0",
         null,
         "45000.0",
         "Full-time",
         null,
         "1713277614000.0",
         null,
         "https://www.linkedin.com/jobs/view/10998357/?trk=jobs_biz_prem_srch",
         null,
         "ComplexOnsiteApply",
         "1715869614000.0",
         null,
         null,
         "We are currently accepting resumes for FOH - Asisstant Restaurant Management with a strong focus on delivering high quality customer service. Prefer 1 to 3 years FOH management experience. Candidate should be a self-starter, proactive, attentive to details and like developing others. Must have a strong sense of teamwork and strong witten and verbal communication skills. Have a keen interest in service, food and learning. Passion for excellence and doing things right.",
         "1713277614000.0",
         null,
         "0",
         "FULL_TIME",
         "USD",
         "BASE_SALARY",
         "55000.0",
         "45202.0",
         "39061.0"
        ],
        [
         "3",
         "23221523",
         "Abrams Fensterman, LLP",
         "Senior Elder Law / Trusts and Estates Associate Attorney",
         "Senior Associate Attorney - Elder Law / Trusts and Estates  Our legal team is committed to providing each client with quality counsel, innovative solutions, and personalized service. Founded in 2000, the firm offers the legal expertise of its 115+ attorneys, who have accumulated experience and problem-solving skills over decades of practice.\nWe are a prominent Lake Success Law Firm seeking an associate attorney for its growing Elder Law and Estate Planning practice. The successful candidate will be a self-motivated, detail-oriented team member with strong communication skills and a desire to grow their practice. Experience with Estate Planning, Administration, and Litigation and is preferred.\n Responsibilities will include:\nCounseling clients with regard to estate planning and asset protection;Formulating and overseeing execution of Medicaid and estate plans;Drafting wills, revocable and irrevocable trusts, powers of attorney, health care proxies, and living wills;Estate Administration;Trust Administration;Court Appearances for Estate and Proceedings;Supervising paralegals \nQualifications:Juris Doctor degree (J.D.) from an accredited law schoolLicensed to practice law in New York10-15 years of experienceExperience with various advance directives, trusts, and willsStrong analytical and problem-solving skillsAbility to build rapport with clientsExcellent written and verbal communication skills\n Competitive salary commensurate with experienceSalary: $140,000- $175,000Benefits: 401k, Medical, Dental, Life Insurance, PTO, and more\nThis position is based out of Lake Success, NY ",
         "175000.0",
         "YEARLY",
         "New Hyde Park, NY",
         "766262.0",
         "16.0",
         null,
         "140000.0",
         "Full-time",
         null,
         "1712895812000.0",
         null,
         "https://www.linkedin.com/jobs/view/23221523/?trk=jobs_biz_prem_srch",
         null,
         "ComplexOnsiteApply",
         "1715487812000.0",
         null,
         null,
         "This position requires a baseline understanding of online marketing including Search Engine Marketing, Search Engine Optimization, and campaign analytics. The ideal candidate must be an analytical and detailed dynamic, self-starter who is proactive, and able to multitask effectively. This individual must be a strategic thinker with excellent verbal and written communication, as well strong presentation skills and the ability to work independently in an organized manner.",
         "1712895812000.0",
         null,
         "0",
         "FULL_TIME",
         "USD",
         "BASE_SALARY",
         "157500.0",
         "11040.0",
         "36059.0"
        ],
        [
         "4",
         "35982263",
         null,
         " Service Technician",
         "Looking for HVAC service tech with experience in commerical and industrial equipment. Minimum 5 yrs. on the job with mechanical license. Winger is a full line union mechanical business with Piping, plumbing, sheet metal and service.",
         "80000.0",
         "YEARLY",
         "Burlington, IA",
         null,
         "3.0",
         null,
         "60000.0",
         "Full-time",
         null,
         "1713451943000.0",
         null,
         "https://www.linkedin.com/jobs/view/35982263/?trk=jobs_biz_prem_srch",
         null,
         "ComplexOnsiteApply",
         "1716043943000.0",
         null,
         null,
         null,
         "1713451943000.0",
         null,
         "0",
         "FULL_TIME",
         "USD",
         "BASE_SALARY",
         "70000.0",
         "52601.0",
         "19057.0"
        ]
       ],
       "shape": {
        "columns": 31,
        "rows": 5
       }
      },
      "text/html": [
       "<div>\n",
       "<style scoped>\n",
       "    .dataframe tbody tr th:only-of-type {\n",
       "        vertical-align: middle;\n",
       "    }\n",
       "\n",
       "    .dataframe tbody tr th {\n",
       "        vertical-align: top;\n",
       "    }\n",
       "\n",
       "    .dataframe thead th {\n",
       "        text-align: right;\n",
       "    }\n",
       "</style>\n",
       "<table border=\"1\" class=\"dataframe\">\n",
       "  <thead>\n",
       "    <tr style=\"text-align: right;\">\n",
       "      <th></th>\n",
       "      <th>job_id</th>\n",
       "      <th>company_name</th>\n",
       "      <th>title</th>\n",
       "      <th>description</th>\n",
       "      <th>max_salary</th>\n",
       "      <th>pay_period</th>\n",
       "      <th>location</th>\n",
       "      <th>company_id</th>\n",
       "      <th>views</th>\n",
       "      <th>med_salary</th>\n",
       "      <th>...</th>\n",
       "      <th>skills_desc</th>\n",
       "      <th>listed_time</th>\n",
       "      <th>posting_domain</th>\n",
       "      <th>sponsored</th>\n",
       "      <th>work_type</th>\n",
       "      <th>currency</th>\n",
       "      <th>compensation_type</th>\n",
       "      <th>normalized_salary</th>\n",
       "      <th>zip_code</th>\n",
       "      <th>fips</th>\n",
       "    </tr>\n",
       "  </thead>\n",
       "  <tbody>\n",
       "    <tr>\n",
       "      <th>0</th>\n",
       "      <td>921716</td>\n",
       "      <td>Corcoran Sawyer Smith</td>\n",
       "      <td>Marketing Coordinator</td>\n",
       "      <td>Job descriptionA leading real estate firm in N...</td>\n",
       "      <td>20.0</td>\n",
       "      <td>HOURLY</td>\n",
       "      <td>Princeton, NJ</td>\n",
       "      <td>2774458.0</td>\n",
       "      <td>20.0</td>\n",
       "      <td>NaN</td>\n",
       "      <td>...</td>\n",
       "      <td>Requirements: \\n\\nWe are seeking a College or ...</td>\n",
       "      <td>1.713398e+12</td>\n",
       "      <td>NaN</td>\n",
       "      <td>0</td>\n",
       "      <td>FULL_TIME</td>\n",
       "      <td>USD</td>\n",
       "      <td>BASE_SALARY</td>\n",
       "      <td>38480.0</td>\n",
       "      <td>8540.0</td>\n",
       "      <td>34021.0</td>\n",
       "    </tr>\n",
       "    <tr>\n",
       "      <th>1</th>\n",
       "      <td>1829192</td>\n",
       "      <td>NaN</td>\n",
       "      <td>Mental Health Therapist/Counselor</td>\n",
       "      <td>At Aspen Therapy and Wellness , we are committ...</td>\n",
       "      <td>50.0</td>\n",
       "      <td>HOURLY</td>\n",
       "      <td>Fort Collins, CO</td>\n",
       "      <td>NaN</td>\n",
       "      <td>1.0</td>\n",
       "      <td>NaN</td>\n",
       "      <td>...</td>\n",
       "      <td>NaN</td>\n",
       "      <td>1.712858e+12</td>\n",
       "      <td>NaN</td>\n",
       "      <td>0</td>\n",
       "      <td>FULL_TIME</td>\n",
       "      <td>USD</td>\n",
       "      <td>BASE_SALARY</td>\n",
       "      <td>83200.0</td>\n",
       "      <td>80521.0</td>\n",
       "      <td>8069.0</td>\n",
       "    </tr>\n",
       "    <tr>\n",
       "      <th>2</th>\n",
       "      <td>10998357</td>\n",
       "      <td>The National Exemplar</td>\n",
       "      <td>Assitant Restaurant Manager</td>\n",
       "      <td>The National Exemplar is accepting application...</td>\n",
       "      <td>65000.0</td>\n",
       "      <td>YEARLY</td>\n",
       "      <td>Cincinnati, OH</td>\n",
       "      <td>64896719.0</td>\n",
       "      <td>8.0</td>\n",
       "      <td>NaN</td>\n",
       "      <td>...</td>\n",
       "      <td>We are currently accepting resumes for FOH - A...</td>\n",
       "      <td>1.713278e+12</td>\n",
       "      <td>NaN</td>\n",
       "      <td>0</td>\n",
       "      <td>FULL_TIME</td>\n",
       "      <td>USD</td>\n",
       "      <td>BASE_SALARY</td>\n",
       "      <td>55000.0</td>\n",
       "      <td>45202.0</td>\n",
       "      <td>39061.0</td>\n",
       "    </tr>\n",
       "    <tr>\n",
       "      <th>3</th>\n",
       "      <td>23221523</td>\n",
       "      <td>Abrams Fensterman, LLP</td>\n",
       "      <td>Senior Elder Law / Trusts and Estates Associat...</td>\n",
       "      <td>Senior Associate Attorney - Elder Law / Trusts...</td>\n",
       "      <td>175000.0</td>\n",
       "      <td>YEARLY</td>\n",
       "      <td>New Hyde Park, NY</td>\n",
       "      <td>766262.0</td>\n",
       "      <td>16.0</td>\n",
       "      <td>NaN</td>\n",
       "      <td>...</td>\n",
       "      <td>This position requires a baseline understandin...</td>\n",
       "      <td>1.712896e+12</td>\n",
       "      <td>NaN</td>\n",
       "      <td>0</td>\n",
       "      <td>FULL_TIME</td>\n",
       "      <td>USD</td>\n",
       "      <td>BASE_SALARY</td>\n",
       "      <td>157500.0</td>\n",
       "      <td>11040.0</td>\n",
       "      <td>36059.0</td>\n",
       "    </tr>\n",
       "    <tr>\n",
       "      <th>4</th>\n",
       "      <td>35982263</td>\n",
       "      <td>NaN</td>\n",
       "      <td>Service Technician</td>\n",
       "      <td>Looking for HVAC service tech with experience ...</td>\n",
       "      <td>80000.0</td>\n",
       "      <td>YEARLY</td>\n",
       "      <td>Burlington, IA</td>\n",
       "      <td>NaN</td>\n",
       "      <td>3.0</td>\n",
       "      <td>NaN</td>\n",
       "      <td>...</td>\n",
       "      <td>NaN</td>\n",
       "      <td>1.713452e+12</td>\n",
       "      <td>NaN</td>\n",
       "      <td>0</td>\n",
       "      <td>FULL_TIME</td>\n",
       "      <td>USD</td>\n",
       "      <td>BASE_SALARY</td>\n",
       "      <td>70000.0</td>\n",
       "      <td>52601.0</td>\n",
       "      <td>19057.0</td>\n",
       "    </tr>\n",
       "  </tbody>\n",
       "</table>\n",
       "<p>5 rows × 31 columns</p>\n",
       "</div>"
      ],
      "text/plain": [
       "     job_id            company_name  \\\n",
       "0    921716   Corcoran Sawyer Smith   \n",
       "1   1829192                     NaN   \n",
       "2  10998357  The National Exemplar    \n",
       "3  23221523  Abrams Fensterman, LLP   \n",
       "4  35982263                     NaN   \n",
       "\n",
       "                                               title  \\\n",
       "0                              Marketing Coordinator   \n",
       "1                  Mental Health Therapist/Counselor   \n",
       "2                        Assitant Restaurant Manager   \n",
       "3  Senior Elder Law / Trusts and Estates Associat...   \n",
       "4                                 Service Technician   \n",
       "\n",
       "                                         description  max_salary pay_period  \\\n",
       "0  Job descriptionA leading real estate firm in N...        20.0     HOURLY   \n",
       "1  At Aspen Therapy and Wellness , we are committ...        50.0     HOURLY   \n",
       "2  The National Exemplar is accepting application...     65000.0     YEARLY   \n",
       "3  Senior Associate Attorney - Elder Law / Trusts...    175000.0     YEARLY   \n",
       "4  Looking for HVAC service tech with experience ...     80000.0     YEARLY   \n",
       "\n",
       "            location  company_id  views  med_salary  ...  \\\n",
       "0      Princeton, NJ   2774458.0   20.0         NaN  ...   \n",
       "1   Fort Collins, CO         NaN    1.0         NaN  ...   \n",
       "2     Cincinnati, OH  64896719.0    8.0         NaN  ...   \n",
       "3  New Hyde Park, NY    766262.0   16.0         NaN  ...   \n",
       "4     Burlington, IA         NaN    3.0         NaN  ...   \n",
       "\n",
       "                                         skills_desc   listed_time  \\\n",
       "0  Requirements: \\n\\nWe are seeking a College or ...  1.713398e+12   \n",
       "1                                                NaN  1.712858e+12   \n",
       "2  We are currently accepting resumes for FOH - A...  1.713278e+12   \n",
       "3  This position requires a baseline understandin...  1.712896e+12   \n",
       "4                                                NaN  1.713452e+12   \n",
       "\n",
       "   posting_domain  sponsored  work_type currency compensation_type  \\\n",
       "0             NaN          0  FULL_TIME      USD       BASE_SALARY   \n",
       "1             NaN          0  FULL_TIME      USD       BASE_SALARY   \n",
       "2             NaN          0  FULL_TIME      USD       BASE_SALARY   \n",
       "3             NaN          0  FULL_TIME      USD       BASE_SALARY   \n",
       "4             NaN          0  FULL_TIME      USD       BASE_SALARY   \n",
       "\n",
       "  normalized_salary  zip_code     fips  \n",
       "0           38480.0    8540.0  34021.0  \n",
       "1           83200.0   80521.0   8069.0  \n",
       "2           55000.0   45202.0  39061.0  \n",
       "3          157500.0   11040.0  36059.0  \n",
       "4           70000.0   52601.0  19057.0  \n",
       "\n",
       "[5 rows x 31 columns]"
      ]
     },
     "execution_count": 16,
     "metadata": {},
     "output_type": "execute_result"
    }
   ],
   "source": [
    "df.head()"
   ]
  },
  {
   "cell_type": "code",
   "execution_count": 17,
   "id": "ab8867af",
   "metadata": {},
   "outputs": [
    {
     "data": {
      "text/plain": [
       "(123849, 31)"
      ]
     },
     "execution_count": 17,
     "metadata": {},
     "output_type": "execute_result"
    }
   ],
   "source": [
    "df.shape"
   ]
  },
  {
   "cell_type": "code",
   "execution_count": 18,
   "id": "1792a071",
   "metadata": {
    "execution": {
     "iopub.execute_input": "2025-04-04T22:15:44.436979Z",
     "iopub.status.busy": "2025-04-04T22:15:44.436569Z",
     "iopub.status.idle": "2025-04-04T22:15:45.040636Z",
     "shell.execute_reply": "2025-04-04T22:15:45.038984Z"
    },
    "papermill": {
     "duration": 0.610823,
     "end_time": "2025-04-04T22:15:45.042661",
     "exception": false,
     "start_time": "2025-04-04T22:15:44.431838",
     "status": "completed"
    },
    "tags": []
   },
   "outputs": [
    {
     "data": {
      "text/plain": [
       "(2881, 6)"
      ]
     },
     "execution_count": 18,
     "metadata": {},
     "output_type": "execute_result"
    }
   ],
   "source": [
    "\"\"\"\n",
    "Cell generated by Data Wrangler.\n",
    "\"\"\"\n",
    "def clean_data(df):\n",
    "    # Drop columns: 'job_id', 'company_name' and 26 other columns\n",
    "    df = df.drop(columns=['max_salary', 'pay_period', 'location', 'views', 'med_salary', 'min_salary', 'formatted_work_type', 'applies', 'original_listed_time', 'remote_allowed', 'job_posting_url', 'application_url', 'application_type', 'expiry', 'closed_time', 'formatted_experience_level', 'listed_time', 'posting_domain', 'sponsored', 'work_type', 'currency', 'compensation_type', 'normalized_salary', 'zip_code', 'fips'])\n",
    "    # Filter rows based on column: 'title' for known design-related roles\n",
    "    df = df[(df['title'].str.contains(\"design\", regex=False, na=False, case=False)) | (df['title'].str.contains(\"visuals\", regex=False, na=False, case=False)) | (df['title'].str.contains(\"web\", regex=False, na=False, case=False)) | (df['title'].str.contains(\"graphic\", regex=False, na=False, case=False)) | (df['title'].str.contains(\"content\", regex=False, na=False, case=False)) | (df['title'].str.contains(\"illustrat\", regex=False, na=False, case=False)) | (df['title'].str.contains(\"user\", regex=False, na=False, case=False)) | (df['title'].str.contains(\"interface\", regex=False, na=False, case=False)) | (df['title'].str.contains(\"ux\", regex=False, na=False, case=False)) | (df['title'].str.contains(\"human centered\", regex=False, na=False, case=False)) | (df['title'].str.contains(\"social\", regex=False, na=False, case=False))]\n",
    "    # Filter rows based on column: 'title'  removing terms that polluted list based on trial and error\n",
    "    df = df[(~df['title'].str.contains(\"volunteer\", regex=False, na=False, case=False)) & (~df['title'].str.contains(\"interior\", regex=False, na=False, case=False)) & (~df['title'].str.contains(\"mechanical\", regex=False, na=False, case=False)) & (~df['title'].str.contains(\"recruit\", regex=False, na=False, case=False)) & (~df['title'].str.contains(\"electric\", regex=False, na=False, case=False)) & (~df['title'].str.contains(\"resource\", regex=False, na=False, case=False)) & (~df['title'].str.contains(\"sales\", regex=False, na=False, case=False)) & (~df['title'].str.contains(\"real\", regex=False, na=False, case=False)) & (~df['title'].str.contains(\"invest\", regex=False, na=False, case=False))]\n",
    "    return df\n",
    "\n",
    "df_clean = clean_data(df.copy())\n",
    "df_clean.shape"
   ]
  },
  {
   "cell_type": "code",
   "execution_count": 19,
   "id": "54c79de0",
   "metadata": {
    "execution": {
     "iopub.execute_input": "2025-04-04T22:15:45.051590Z",
     "iopub.status.busy": "2025-04-04T22:15:45.051110Z",
     "iopub.status.idle": "2025-04-04T22:15:45.081778Z",
     "shell.execute_reply": "2025-04-04T22:15:45.080365Z"
    },
    "papermill": {
     "duration": 0.037673,
     "end_time": "2025-04-04T22:15:45.084037",
     "exception": false,
     "start_time": "2025-04-04T22:15:45.046364",
     "status": "completed"
    },
    "tags": []
   },
   "outputs": [
    {
     "data": {
      "application/vnd.microsoft.datawrangler.viewer.v0+json": {
       "columns": [
        {
         "name": "index",
         "rawType": "int64",
         "type": "integer"
        },
        {
         "name": "job_id",
         "rawType": "int64",
         "type": "integer"
        },
        {
         "name": "company_name",
         "rawType": "object",
         "type": "unknown"
        },
        {
         "name": "title",
         "rawType": "object",
         "type": "string"
        },
        {
         "name": "description",
         "rawType": "object",
         "type": "string"
        },
        {
         "name": "company_id",
         "rawType": "float64",
         "type": "float"
        },
        {
         "name": "skills_desc",
         "rawType": "object",
         "type": "unknown"
        }
       ],
       "ref": "f7c177eb-e4be-4361-adfd-1294abf715ca",
       "rows": [
        [
         "18",
         "111513530",
         "United Methodists of Greater New Jersey",
         "Content Writer, Communications",
         "Application opening date: April 24, 2024\nTitle: Content WriterClassification: ExemptBand Description: SpecialistSupervisor: Director of Communications\nPosition SummaryThe Content Writer develops and disseminates impactful written content for United Methodists of EPA and GNJ, supporting our mission to recruit and equip transformational spiritual leaders to make disciples and grow vital congregations to transform the world. This is a highly collaborative role in the EPA&GNJ Communications Team.\nwww.gnjumc.orgwww.epaumc.org\nEssential FunctionsCraft and manage engaging content across various channels, aligning with EPA&GNJ’s objectives.Maintain EPA&GNJ editorial calendar.Direct the production of the quarterly “NEWSpirit” newspaper, coordinating content, design, publication, distribution, and budget to uphold high production values and fiscal responsibility.Manage, curate, and track the weekly “Digest” e-newsletter.Regularly write editorial features that highlight local church ministries and conference initiatives.Revising others written content to ensure all-around consistency (style, fonts, images and tone)Compile and produce publications like the AC Pre-Conference Workbooks and the AC Journal.Balance and weigh written and visual content to reflect diversity, intercultural competency, and theological differences within our conferences.\nOrganizational ResponsibilitiesRelated communications duties such as social media assistance, photography, and representing communications team on project teams.Serve as a participant or as a project manager for projects as assigned.Assist in EPA & GNJ meetings and events.\nCore CompetenciesCommitted to continuously grow in intercultural competenceBuild and maintain relationships that are rooted in honesty, integrity and honoring confidentialityWork collaboratively with others to produce innovative solutionsNetworking and initiativeMeet deadlinesAbility to convert ideas into stories, linking EPA&GNJ’s mission to action\nQualificationsPortfolio of published articles (electronic and print)Excellent writing and editing skills in EnglishEvidence of collaboration with clients and within an office environmentHands-on experience with MailChimp, WordPress, SEO tools, Microsoft Suite, and social mediaFamiliarity with web publicationsPhotography skills preferred\nEducationBachelor’s degree in journalism, communications, or public relations\nTravelThe position requires some evening and weekend responsibilities and some travel beyond the office. The position works in a hybrid model from the EPA office in Norristown, PA and GNJ office in Neptune, NJ.\nEPA & GNJ employees through their work help fulfill our mission: recruit and develop transformational leaders to make disciples and grow vital congregations to transform the world. EPA & GNJ values as an organization and in its employeesinnovation and risk takingexcellence in its ministry and servicecompassionate and just servicediversitycollaborationUnited Methodists of Eastern Pennsylvania and Greater New Jersey view all employees as leaders who are critical to the mission, capable of growth and valued.\nInquiries and resumes to be sent to jkim@gnjumc.org until position is filled.\nDownload the full Job Description: Content Writer-2024",
         "4028816.0",
         null
        ],
        [
         "59",
         "1573178251",
         null,
         "Social Media Coordinator",
         "🚀 Exciting Opportunity Alert! (no previous experience required) \nAre you a social media enthusiast looking to turn your passion into profit? Look no further! We're on the hunt for talented individuals to join our team as Social Media Coordinators.\nPosition: Social Media CoordinatorCompany: bagel bossLocation: Remote (Work from anywhere in the world)Language: EnglishTime Commitment: Just 3+ hours per weekResponsibilities:Curate and upload captivating images to the company's Instagram account.Engage with followers and maintain a vibrant online presence.Collaborate with the marketing team to develop creative content strategies.Requirements:Access to a smartphone, tablet, or computer.Reliable internet connection.No prior experience necessary! We provide full training.Don't miss out on this incredible opportunity to kickstart your career in the dynamic world of social media. Apply now before the deadline at midnight tonight!Salary: Up to $150/day\nApplication Requirements:CV and passion for social media",
         null,
         null
        ],
        [
         "62",
         "1826257634",
         "The Medicare Coach",
         "Social Security Specialist / Retirement Benefit Advisor (Remote)",
         "Do you have a background in the Social Security realm?\nDo you love helping people?\nAre you organized and enjoy being on the phone?\nDo you quickly connect with others and build trust in relationships?\nIf so, The Medicare Coach is ready to hire you for their rapidly expanding company.\nThe Medicare Coach uses their expertise to help people navigate the complex world of Retirement as it pertains to Social Security and Medicare decisions. We help celebrities, doctors, teaches, and everyone in between.Our goal is to help our clients do what’s best for them to protect their retirement savings while still having access to the best healthcare in the country.\nYou are the ideal candidate for this full-time position if you have a history in Social Security, passion for helping people, a positive attitude, and a hunger for learning. (You DO NOT need any knowledge about Medicare -- we will train you!!) You look forward to spending most of your time emailing or on the phone with clients, managing processes and keeping others on track.\nYour mature voice is naturally confident, and you can easily build a trusting relationship with people. You’re naturally empathetic and comfortable talking about emotional situations (like a widowed spouse or a catastrophic illness), while also maintaining the appropriate amount of professional distance.\nYou thrive when you have a great deal of autonomy and know how to hold yourself accountable. You are detail-orientated, organize your time well, and naturally keep yourself on track. You also enjoy working with a team and helping each other problem-solve when a client’s situation is tricky to ensure you aren’t missing something.\nFormer teaching or health care experience is a plus but not required.\nOffer Details\nThis is a full-time remote position. In-person training will be done in Colorado Springs or Denver. Company hours are 8 a.m. to 5 p.m. MT.\nResponsibilities (tasks associated with the role)\nHelp clients understand Social Security and Medicare rules to protect their health care rights and retirement savings.Research and provide recommendations to help clients make the right Medicare decisions, including when to join Medicare and which plans are best for them.Answer client Social Security and Medicare questions via phone and email.Provide client confidence as they go through an overwhelming and life changing event.\nRequirements (expected proficiencies to excel in this role)\nThis position is for a person who:Has 5+ years of adult work experience (post-college if you graduated)CoachableReady to learn basic Medicare and insurance principlesGenuine interest and ability to connect with seniorsHighly organized and detail-orientedCalm demeanor and can work under the pressure of tight deadlinesExceptional customer service skillsDesire to help clients with life-altering decisionsConfident communication and presentation skillsHigh level of integrityCompassionate in difficult conversationsDesire to work in a dynamic, fun, and fast-paced team environment\nAdditional RequirementsKnowledge of PowerPoint, Word, and ExcelAbility to type at least 50 WPMBasic math skillsBased in the United StatesReliable phone and internet connectionWilling to show up to work looking professional “on top” (professional Zoom dress required)\nThis position is NOT for someone who:Lives internationallyHas difficulty not emotionally taking work home with themWants a serious, “all business” work environmentNeeds to be micro-managedIs not a team player\nCurrent TeamCEO & IntegratorConcierge (client onboarding) & administrative assistantMarketing AssistantCustomer Success CoordinatorSystems ManagerCoach team (currently 5)\nAbout the Company\nThe Medicare Coach’s core focus is to educate, guide and advise people to help them easily make the right Medicare decisions to protect their healthcare and finances.\nThe Medicare Coach is the only advisory service of its kind, being completely unbiased in our guidance and providing simplified, expert level knowledge that brings complete peace of mind to our clients. The Medicare Coach has clients in all 50 states, the Virgin Islands and even 10 countries!\nLearn more about the company\nThe cultural pillars of the company include:Strive for Excellence - We will strive for continuous improvement. We will produce the best products and deliver the best services that we are capable of providing.Pursue learning, growth, and change - We will challenge our knowledge, the process, the product, and our opinions. We will foster an environment of team spirit, never challenging the person, but challenging the problem or opportunity. We will look for new opportunities to learn and grow. We will speak up when we do not understand or do not agree with others. We strive to be known as thought leaders and innovators in Medicare.Community of inclusion - We create respectful relationships with both our clients and colleagues, while providing a trusted space for people of all genders, ethnicities, sexual preferences, and health conditions.Passion for helping - We enjoy helping people. We strive to make our clients feel heard so we can help them reach their goals. We go the extra step (within reason) to help solve a problem or answer a question for our clients and company.\nJob Type: Full-timePay: $19.00 - $25.00 per hour\nBenefits:401(k)401(k) matchingDental insuranceHealth insurancePaid time offVision insurance\nCompensation package:Bonus opportunities\nWeekly schedule:Monday to Friday\nWork setting:Hybrid work",
         "35690006.0",
         null
        ],
        [
         "74",
         "2147609858",
         "The Job Network",
         "Dental CAD/CAM Designer - $20-$30/hour",
         "Seeking an experienced CAD/CAM Designer for Dental Lab Dental (Fixed Anterior/Implants)\n\nCompensation Range:\n\nUp to $30/hour (depending on level of skill, experience, and ability).Eligible for up to $2500 relocation expense reimbursementMedical/Dental/Vision401KPTO Schedule: Full Time 7:30am-4:30pm Monday-Friday (with a one-hour lunch) Description: R-dent Dental Laboratory is the largest privately-owned dental lab in Tennessee/Arkansas/Mississippi. We are currently seeking a CAD Designer who is experienced in designing Fixed Anterior & Implants.\n\nResponsibilities: Review prescription and interpret instructions to design Fixed Anterior/Cosmetic & Implants (including Implant Abutments).Communicate with dentists to verify correct procedures and devices.Problem solve and think independently and critically. Benefits: Medical, Dental, Vision, and Life Insurance (free $25000 Life & AD&D Policy and other supplemental options); 401k with matching; Paid Time Off and Paid Holidays; Free Company uniforms and Gym membership.\n\nABOUT THE ORGANIZATION: In 1978, a young CDT by the name of Randy Grubb realized the need for a dental laboratory that would offer quality products with high aesthetics and outstanding customer service. Thus, R-Dent Dental Laboratory was born, and we've grown from that idea about quality and service to become the largest and finest full-service dental laboratory in west Tennessee.\n\nEOE STATEMENT: We are an equal employment opportunity employer. All qualified applicants will receive consideration for employment without regard to race, age, religion, gender, national origin, disability status, protected veteran status or any other characteristic protected by law.\n\nOTHER INFORMATION: We use Everify, which requires your social security number be used to verify your authorization to work. Additionally, we require a satisfactory background check.\n\nSkills:CAD/CAM3Shape\n\nBenefits:MedicalDentalVision401kPTO\n\nCompensation:$20-$30/hour PandoLogic. Keywords: CAD / AutoCAD Designer, Location: BARTLETT, TN - 38104",
         "167757.0",
         null
        ],
        [
         "91",
         "2796728000",
         "Thorpe Design, Inc.",
         "Fire Sprinkler Designer",
         "Company DescriptionThorpe Design, Inc. is a full service fire sprinkler systems contractor for residential and commercial buildings serving Northern California. We offer owners, builders and architects a pre-designed fire sprinkler system, allowing for quality, accuracy and on-time delivery. The system will be custom tailored to meet your needs and budget constraints. We are highly regarded among our peers and counterparts enabling us to build a good working rapport with the authorities having jurisdiction as well as offering guidance for budgeting, contract awards and scheduling. A combination of working experience and desire to serve your needs will provide you with an economical system which will fit into your construction schedule avoiding conflicts and delays. We look forward to serving your future fire sprinkler system requirements. Thorpe Design, Inc. has been a licensed Fire Protection Contractor since 1986.\nRole DescriptionThis is a full-time on-site role for a Fire Sprinkler Designer located in Brentwood, CA. As a Fire Sprinkler Designer, you will be responsible for designing fire sprinkler systems for residential and commercial buildings adhering to NFPA 13, NFPA 14, NFPA 20, and NFPA 24. Your day-to-day tasks will include creating detailed system designs in , collaborating with engineers and architects, ensuring compliance with codes and regulations, and generating accurate drawings and documentation. You will work closely with project managers to meet project deadlines and deliver high-quality designs.\nQualificationsStrong knowledge of fire protection codes and standardsExperience in designing fire sprinkler systems for residential and commercial buildingsProficiency in AutoCAD and other design softwareExcellent attention to detail and ability to generate accurate drawings and documentationStrong problem-solving and communication skillsAbility to work effectively in a team environment and handle multiple projects simultaneouslyKnowledge of hydraulic calculationsFire Sprinkler Designer certification is a plus",
         "2737686.0",
         null
        ]
       ],
       "shape": {
        "columns": 6,
        "rows": 5
       }
      },
      "text/html": [
       "<div>\n",
       "<style scoped>\n",
       "    .dataframe tbody tr th:only-of-type {\n",
       "        vertical-align: middle;\n",
       "    }\n",
       "\n",
       "    .dataframe tbody tr th {\n",
       "        vertical-align: top;\n",
       "    }\n",
       "\n",
       "    .dataframe thead th {\n",
       "        text-align: right;\n",
       "    }\n",
       "</style>\n",
       "<table border=\"1\" class=\"dataframe\">\n",
       "  <thead>\n",
       "    <tr style=\"text-align: right;\">\n",
       "      <th></th>\n",
       "      <th>job_id</th>\n",
       "      <th>company_name</th>\n",
       "      <th>title</th>\n",
       "      <th>description</th>\n",
       "      <th>company_id</th>\n",
       "      <th>skills_desc</th>\n",
       "    </tr>\n",
       "  </thead>\n",
       "  <tbody>\n",
       "    <tr>\n",
       "      <th>18</th>\n",
       "      <td>111513530</td>\n",
       "      <td>United Methodists of Greater New Jersey</td>\n",
       "      <td>Content Writer, Communications</td>\n",
       "      <td>Application opening date: April 24, 2024\\nTitl...</td>\n",
       "      <td>4028816.0</td>\n",
       "      <td>NaN</td>\n",
       "    </tr>\n",
       "    <tr>\n",
       "      <th>59</th>\n",
       "      <td>1573178251</td>\n",
       "      <td>NaN</td>\n",
       "      <td>Social Media Coordinator</td>\n",
       "      <td>🚀 Exciting Opportunity Alert! (no previous exp...</td>\n",
       "      <td>NaN</td>\n",
       "      <td>NaN</td>\n",
       "    </tr>\n",
       "    <tr>\n",
       "      <th>62</th>\n",
       "      <td>1826257634</td>\n",
       "      <td>The Medicare Coach</td>\n",
       "      <td>Social Security Specialist / Retirement Benefi...</td>\n",
       "      <td>Do you have a background in the Social Securit...</td>\n",
       "      <td>35690006.0</td>\n",
       "      <td>NaN</td>\n",
       "    </tr>\n",
       "    <tr>\n",
       "      <th>74</th>\n",
       "      <td>2147609858</td>\n",
       "      <td>The Job Network</td>\n",
       "      <td>Dental CAD/CAM Designer - $20-$30/hour</td>\n",
       "      <td>Seeking an experienced CAD/CAM Designer for De...</td>\n",
       "      <td>167757.0</td>\n",
       "      <td>NaN</td>\n",
       "    </tr>\n",
       "    <tr>\n",
       "      <th>91</th>\n",
       "      <td>2796728000</td>\n",
       "      <td>Thorpe Design, Inc.</td>\n",
       "      <td>Fire Sprinkler Designer</td>\n",
       "      <td>Company DescriptionThorpe Design, Inc. is a fu...</td>\n",
       "      <td>2737686.0</td>\n",
       "      <td>NaN</td>\n",
       "    </tr>\n",
       "  </tbody>\n",
       "</table>\n",
       "</div>"
      ],
      "text/plain": [
       "        job_id                             company_name  \\\n",
       "18   111513530  United Methodists of Greater New Jersey   \n",
       "59  1573178251                                      NaN   \n",
       "62  1826257634                       The Medicare Coach   \n",
       "74  2147609858                          The Job Network   \n",
       "91  2796728000                      Thorpe Design, Inc.   \n",
       "\n",
       "                                                title  \\\n",
       "18                     Content Writer, Communications   \n",
       "59                           Social Media Coordinator   \n",
       "62  Social Security Specialist / Retirement Benefi...   \n",
       "74             Dental CAD/CAM Designer - $20-$30/hour   \n",
       "91                            Fire Sprinkler Designer   \n",
       "\n",
       "                                          description  company_id skills_desc  \n",
       "18  Application opening date: April 24, 2024\\nTitl...   4028816.0         NaN  \n",
       "59  🚀 Exciting Opportunity Alert! (no previous exp...         NaN         NaN  \n",
       "62  Do you have a background in the Social Securit...  35690006.0         NaN  \n",
       "74  Seeking an experienced CAD/CAM Designer for De...    167757.0         NaN  \n",
       "91  Company DescriptionThorpe Design, Inc. is a fu...   2737686.0         NaN  "
      ]
     },
     "execution_count": 19,
     "metadata": {},
     "output_type": "execute_result"
    }
   ],
   "source": [
    "\"\"\"\n",
    "Cell generated by Data Wrangler.\n",
    "\"\"\"\n",
    "def clean_data(df_clean):\n",
    "    # Filter rows based on column: 'title' more cleaning\n",
    "    df_clean = df_clean[(~df_clean['title'].str.contains(\"engineer\", regex=False, na=False, case=False)) & (~df_clean['title'].str.contains(\"architect\", regex=False, na=False, case=False)) & (~df_clean['title'].str.contains(\"health\", regex=False, na=False, case=False)) & (~df_clean['title'].str.contains(\"work\", regex=False, na=False, case=False)) & (~df_clean['title'].str.contains(\"admin\", regex=False, na=False, case=False)) & (~df_clean['title'].str.contains(\"teach\", regex=False, na=False, case=False)) & (~df_clean['title'].str.contains(\"instruct\", regex=False, na=False, case=False)) & (~df_clean['title'].str.contains(\"luxury\", regex=False, na=False, case=False))]\n",
    "    return df_clean\n",
    "\n",
    "df_clean_1 = clean_data(df_clean.copy())\n",
    "df_clean_1.head()"
   ]
  },
  {
   "cell_type": "code",
   "execution_count": 20,
   "id": "4a4cb1e7",
   "metadata": {},
   "outputs": [
    {
     "data": {
      "text/plain": [
       "(1936, 6)"
      ]
     },
     "execution_count": 20,
     "metadata": {},
     "output_type": "execute_result"
    }
   ],
   "source": [
    "df_clean_1.shape"
   ]
  },
  {
   "cell_type": "code",
   "execution_count": 21,
   "id": "dfb5890e",
   "metadata": {},
   "outputs": [],
   "source": [
    "df_clean_1.to_csv('postings_filtered.csv',index=False)"
   ]
  },
  {
   "cell_type": "code",
   "execution_count": 22,
   "id": "5437e830",
   "metadata": {},
   "outputs": [
    {
     "data": {
      "text/plain": [
       "(1936, 6)"
      ]
     },
     "execution_count": 22,
     "metadata": {},
     "output_type": "execute_result"
    }
   ],
   "source": [
    "#filtered check\n",
    "filtered = pd.read_csv('postings_filtered.csv')\n",
    "filtered.shape"
   ]
  },
  {
   "cell_type": "code",
   "execution_count": 23,
   "id": "429a9c5d",
   "metadata": {
    "execution": {
     "iopub.execute_input": "2025-04-04T22:15:45.094012Z",
     "iopub.status.busy": "2025-04-04T22:15:45.093598Z",
     "iopub.status.idle": "2025-04-04T22:15:50.429021Z",
     "shell.execute_reply": "2025-04-04T22:15:50.427604Z"
    },
    "papermill": {
     "duration": 5.342993,
     "end_time": "2025-04-04T22:15:50.431219",
     "exception": false,
     "start_time": "2025-04-04T22:15:45.088226",
     "status": "completed"
    },
    "tags": []
   },
   "outputs": [
    {
     "name": "stdout",
     "output_type": "stream",
     "text": [
      "Original Data shape: (1936, 6)\n",
      "Columns: ['job_id', 'company_name', 'title', 'description', 'company_id', 'skills_desc']\n",
      "\n",
      "TF-IDF matrix shape: (1936, 2000)\n",
      "\n",
      "Initial 7-cluster distribution:\n",
      "cluster\n",
      "4    707\n",
      "6    303\n",
      "1    284\n",
      "0    256\n",
      "2    171\n",
      "5    146\n",
      "3     69\n",
      "Name: count, dtype: int64\n",
      "\n",
      "Subset Data shape (clusters 0,1,2,3): (780, 11)\n",
      "\n",
      "New cluster distribution (from subset):\n",
      "new_cluster\n",
      "3    288\n",
      "0    252\n",
      "2    171\n",
      "1     69\n",
      "Name: count, dtype: int64\n",
      "\n",
      "New Cluster 0:\n",
      "Top terms: ['content', 'marketing', 'experience', 'digital', 'management', 'team', 'writing', 'work', 'skills', 'seo']\n",
      "Sample Titles: ['Content Writer, Communications', 'Marketing & Communications – Content Writer Internship', 'Loyalty Content Writer & Operations Manager', 'UX/Content Strategist', 'Head of Content / Search Engine Optimization Copywriter']\n",
      "\n",
      "New Cluster 1:\n",
      "Top terms: ['ai', 'chatbots', 'paypal', 'usd', 'conversations', 'quality', 'progress', 'code', 'high', 'work']\n",
      "Sample Titles: ['AI Content Writer', 'Web Developer', 'Web Developer', 'Content Editor', 'AI Content Writer']\n",
      "\n",
      "New Cluster 2:\n",
      "Top terms: ['social', 'media', 'marketing', 'content', 'brand', 'platforms', 'instagram', 'intern', 'manager', 'team']\n",
      "Sample Titles: ['Social Media Coordinator', 'Social Media Coordinator', 'Social Media Manager and Graphic Designer', 'Social Media Marketing Specialist Internship', 'Social Media Manager']\n",
      "\n",
      "New Cluster 3:\n",
      "Top terms: ['design', 'user', 'ux', 'experience', 'product', 'designer', 'ui', 'research', 'work', 'team']\n",
      "Sample Titles: ['User Experience Designer', 'Lead Product Designer', 'User Experience Designer', 'Manager of Product Design - CMOS Image Sensor (CIS)', 'Lead UX Strategist']\n"
     ]
    }
   ],
   "source": [
    "# =============================================================================\n",
    "# FINAL ANALYSIS: DESIGN JOB POSTINGS\n",
    "# =============================================================================\n",
    "# This notebook analyzes a filtered set of job postings to determine distinct\n",
    "# clusters of design roles. We first cluster the entire dataset, then remove\n",
    "# clusters that represent technical, coding, or AI-focused roles. Finally, we\n",
    "# re-cluster the remaining roles (more aligned with design, digital, and \n",
    "# marketing jobs) and summarize the findings.\n",
    "# =============================================================================\n",
    "\n",
    "import pandas as pd\n",
    "import re\n",
    "from sklearn.feature_extraction.text import TfidfVectorizer\n",
    "from sklearn.cluster import KMeans\n",
    "\n",
    "# -------------------------------------------------------------------------\n",
    "# Step 1: Load and Preprocess Data\n",
    "# -------------------------------------------------------------------------\n",
    "# Load the CSV file containing the filtered job postings.\n",
    "# The CSV is assumed to have columns: 'title', 'description', 'skills_desc'\n",
    "df = pd.read_csv(\"postings_filtered.csv\")\n",
    "print(\"Original Data shape:\", df.shape)\n",
    "print(\"Columns:\", df.columns.tolist())\n",
    "\n",
    "# Convert text fields to lowercase for uniformity\n",
    "df['title_lower'] = df['title'].astype(str).str.lower()\n",
    "df['desc_lower'] = df['description'].astype(str).str.lower()\n",
    "\n",
    "# Combine text from 'title', 'description', and 'skills_desc' (if available)\n",
    "df['combined_text'] = df['title_lower'] + \" \" + df['desc_lower']\n",
    "if 'skills_desc' in df.columns:\n",
    "    df['skills_lower'] = df['skills_desc'].fillna('').str.lower()\n",
    "    df['combined_text'] += \" \" + df['skills_lower']\n",
    "\n",
    "# -------------------------------------------------------------------------\n",
    "# Step 2: Vectorize Text Using TF-IDF\n",
    "# -------------------------------------------------------------------------\n",
    "# We use TF-IDF to convert the combined text into a numerical matrix.\n",
    "vectorizer = TfidfVectorizer(stop_words='english', max_features=2000)\n",
    "X = vectorizer.fit_transform(df['combined_text'])\n",
    "print(\"\\nTF-IDF matrix shape:\", X.shape)\n",
    "\n",
    "# -------------------------------------------------------------------------\n",
    "# Step 3: Initial Clustering (7 Clusters)\n",
    "# -------------------------------------------------------------------------\n",
    "# Perform K-Means clustering with 7 clusters on the full dataset.\n",
    "num_clusters = 7\n",
    "kmeans = KMeans(n_clusters=num_clusters, random_state=42)\n",
    "kmeans.fit(X)\n",
    "df['cluster'] = kmeans.labels_\n",
    "\n",
    "# Print the distribution of postings across clusters.\n",
    "print(\"\\nInitial 7-cluster distribution:\")\n",
    "print(df['cluster'].value_counts())\n",
    "\n",
    "# -------------------------------------------------------------------------\n",
    "# Step 4: Remove Unaligned Clusters\n",
    "# -------------------------------------------------------------------------\n",
    "# We want to focus on roles aligned with design, digital, and marketing.\n",
    "# Based on our previous analysis, we remove clusters 4, 5, and 6.\n",
    "# (These clusters represented technical coding, AI-driven, or other outlier roles.)\n",
    "subset_df = df[df['cluster'].isin([0, 1, 2, 3])].copy()\n",
    "print(\"\\nSubset Data shape (clusters 0,1,2,3):\", subset_df.shape)\n",
    "\n",
    "# -------------------------------------------------------------------------\n",
    "# Step 5: Re-cluster the Subset\n",
    "# -------------------------------------------------------------------------\n",
    "# Reinitialize TF-IDF vectorizer on the subset of data.\n",
    "vectorizer_sub = TfidfVectorizer(stop_words='english', max_features=2000)\n",
    "X_sub = vectorizer_sub.fit_transform(subset_df['combined_text'])\n",
    "\n",
    "# Choose a new number of clusters (4) for the subset.\n",
    "num_clusters_new = 4\n",
    "kmeans_sub = KMeans(n_clusters=num_clusters_new, random_state=42)\n",
    "kmeans_sub.fit(X_sub)\n",
    "subset_df['new_cluster'] = kmeans_sub.labels_\n",
    "\n",
    "print(\"\\nNew cluster distribution (from subset):\")\n",
    "print(subset_df['new_cluster'].value_counts())\n",
    "\n",
    "# -------------------------------------------------------------------------\n",
    "# Step 6: Analyze New Clusters: Top Terms & Sample Job Titles\n",
    "# -------------------------------------------------------------------------\n",
    "feature_names_sub = vectorizer_sub.get_feature_names_out()\n",
    "centers_sub = kmeans_sub.cluster_centers_\n",
    "top_n = 10\n",
    "\n",
    "for c in range(num_clusters_new):\n",
    "    centroid = centers_sub[c]\n",
    "    top_indices = centroid.argsort()[::-1][:top_n]\n",
    "    top_terms = [feature_names_sub[i] for i in top_indices]\n",
    "    print(f\"\\nNew Cluster {c}:\")\n",
    "    print(\"Top terms:\", top_terms)\n",
    "    sample_titles = subset_df[subset_df['new_cluster'] == c]['title'].head(5).tolist()\n",
    "    print(\"Sample Titles:\", sample_titles)\n",
    "    \n",
    "# Optionally, save the new clustered subset to CSV for further review.\n",
    "subset_df.to_csv(\"postings_filtered_subset_clustered.csv\", index=False)\n"
   ]
  },
  {
   "cell_type": "code",
   "execution_count": 26,
   "id": "1444f23a",
   "metadata": {
    "execution": {
     "iopub.execute_input": "2025-04-04T22:15:50.442182Z",
     "iopub.status.busy": "2025-04-04T22:15:50.441800Z",
     "iopub.status.idle": "2025-04-04T22:15:51.663085Z",
     "shell.execute_reply": "2025-04-04T22:15:51.661440Z"
    },
    "papermill": {
     "duration": 1.228795,
     "end_time": "2025-04-04T22:15:51.664804",
     "exception": false,
     "start_time": "2025-04-04T22:15:50.436009",
     "status": "completed"
    },
    "tags": []
   },
   "outputs": [
    {
     "data": {
      "application/vnd.microsoft.datawrangler.viewer.v0+json": {
       "columns": [
        {
         "name": "index",
         "rawType": "int64",
         "type": "integer"
        },
        {
         "name": "Job Category",
         "rawType": "object",
         "type": "string"
        },
        {
         "name": "Skill Subcluster",
         "rawType": "int64",
         "type": "integer"
        },
        {
         "name": "Job Count",
         "rawType": "int64",
         "type": "integer"
        },
        {
         "name": "Percentage of Category",
         "rawType": "float64",
         "type": "float"
        },
        {
         "name": "Top Terms",
         "rawType": "object",
         "type": "unknown"
        }
       ],
       "ref": "9e6e474d-3dfc-4d6b-b787-0653c9617f79",
       "rows": [
        [
         "0",
         "Graphic Design",
         "0",
         "133",
         "42.2",
         "['design', 'status', 'graphics', 'creative', 'graphic', 'company', 'customers', 'working', '00', 'production']"
        ],
        [
         "1",
         "Graphic Design",
         "1",
         "55",
         "17.5",
         "['design', 'packaging', 'product', 'designs', 'graphic', 'products', 'digital', 'development', 'data', 'print']"
        ],
        [
         "2",
         "Graphic Design",
         "2",
         "127",
         "40.3",
         "['design', 'marketing', 'digital', 'graphic', 'creative', 'brand', 'media', 'designer', 'social', 'print']"
        ],
        [
         "3",
         "Marketing",
         "0",
         "299",
         "54.8",
         "['content', 'marketing', 'digital', 'social', 'writing', 'management', 'product', 'business', 'seo', 'design']"
        ],
        [
         "4",
         "Marketing",
         "1",
         "39",
         "7.1",
         "['ai', 'chatbots', 'conversations', 'paypal', 'teach', 'usd', 'fact', 'order', 'progress', 'quality']"
        ],
        [
         "5",
         "Marketing",
         "2",
         "208",
         "38.1",
         "['social', 'media', 'marketing', 'content', 'brand', 'platforms', 'client', 'clients', 'creative', 'paid']"
        ],
        [
         "6",
         "Product and UX",
         "0",
         "163",
         "39.6",
         "['design', 'user', 'ux', 'product', 'research', 'ui', 'designer', 'designs', 'interaction', 'development']"
        ],
        [
         "7",
         "Product and UX",
         "1",
         "219",
         "53.2",
         "['design', 'web', 'content', 'product', 'user', 'digital', 'development', 'marketing', 'website', 'ux']"
        ],
        [
         "8",
         "Product and UX",
         "2",
         "30",
         "7.3",
         "['ai', 'chatbots', 'code', 'coding', 'proficient', 'able', 'quality', 'paypal', 'train', 'usd']"
        ]
       ],
       "shape": {
        "columns": 5,
        "rows": 9
       }
      },
      "text/html": [
       "<div>\n",
       "<style scoped>\n",
       "    .dataframe tbody tr th:only-of-type {\n",
       "        vertical-align: middle;\n",
       "    }\n",
       "\n",
       "    .dataframe tbody tr th {\n",
       "        vertical-align: top;\n",
       "    }\n",
       "\n",
       "    .dataframe thead th {\n",
       "        text-align: right;\n",
       "    }\n",
       "</style>\n",
       "<table border=\"1\" class=\"dataframe\">\n",
       "  <thead>\n",
       "    <tr style=\"text-align: right;\">\n",
       "      <th></th>\n",
       "      <th>Job Category</th>\n",
       "      <th>Skill Subcluster</th>\n",
       "      <th>Job Count</th>\n",
       "      <th>Percentage of Category</th>\n",
       "      <th>Top Terms</th>\n",
       "    </tr>\n",
       "  </thead>\n",
       "  <tbody>\n",
       "    <tr>\n",
       "      <th>0</th>\n",
       "      <td>Graphic Design</td>\n",
       "      <td>0</td>\n",
       "      <td>133</td>\n",
       "      <td>42.2</td>\n",
       "      <td>[design, status, graphics, creative, graphic, ...</td>\n",
       "    </tr>\n",
       "    <tr>\n",
       "      <th>1</th>\n",
       "      <td>Graphic Design</td>\n",
       "      <td>1</td>\n",
       "      <td>55</td>\n",
       "      <td>17.5</td>\n",
       "      <td>[design, packaging, product, designs, graphic,...</td>\n",
       "    </tr>\n",
       "    <tr>\n",
       "      <th>2</th>\n",
       "      <td>Graphic Design</td>\n",
       "      <td>2</td>\n",
       "      <td>127</td>\n",
       "      <td>40.3</td>\n",
       "      <td>[design, marketing, digital, graphic, creative...</td>\n",
       "    </tr>\n",
       "    <tr>\n",
       "      <th>3</th>\n",
       "      <td>Marketing</td>\n",
       "      <td>0</td>\n",
       "      <td>299</td>\n",
       "      <td>54.8</td>\n",
       "      <td>[content, marketing, digital, social, writing,...</td>\n",
       "    </tr>\n",
       "    <tr>\n",
       "      <th>4</th>\n",
       "      <td>Marketing</td>\n",
       "      <td>1</td>\n",
       "      <td>39</td>\n",
       "      <td>7.1</td>\n",
       "      <td>[ai, chatbots, conversations, paypal, teach, u...</td>\n",
       "    </tr>\n",
       "    <tr>\n",
       "      <th>5</th>\n",
       "      <td>Marketing</td>\n",
       "      <td>2</td>\n",
       "      <td>208</td>\n",
       "      <td>38.1</td>\n",
       "      <td>[social, media, marketing, content, brand, pla...</td>\n",
       "    </tr>\n",
       "    <tr>\n",
       "      <th>6</th>\n",
       "      <td>Product and UX</td>\n",
       "      <td>0</td>\n",
       "      <td>163</td>\n",
       "      <td>39.6</td>\n",
       "      <td>[design, user, ux, product, research, ui, desi...</td>\n",
       "    </tr>\n",
       "    <tr>\n",
       "      <th>7</th>\n",
       "      <td>Product and UX</td>\n",
       "      <td>1</td>\n",
       "      <td>219</td>\n",
       "      <td>53.2</td>\n",
       "      <td>[design, web, content, product, user, digital,...</td>\n",
       "    </tr>\n",
       "    <tr>\n",
       "      <th>8</th>\n",
       "      <td>Product and UX</td>\n",
       "      <td>2</td>\n",
       "      <td>30</td>\n",
       "      <td>7.3</td>\n",
       "      <td>[ai, chatbots, code, coding, proficient, able,...</td>\n",
       "    </tr>\n",
       "  </tbody>\n",
       "</table>\n",
       "</div>"
      ],
      "text/plain": [
       "     Job Category  Skill Subcluster  Job Count  Percentage of Category  \\\n",
       "0  Graphic Design                 0        133                    42.2   \n",
       "1  Graphic Design                 1         55                    17.5   \n",
       "2  Graphic Design                 2        127                    40.3   \n",
       "3       Marketing                 0        299                    54.8   \n",
       "4       Marketing                 1         39                     7.1   \n",
       "5       Marketing                 2        208                    38.1   \n",
       "6  Product and UX                 0        163                    39.6   \n",
       "7  Product and UX                 1        219                    53.2   \n",
       "8  Product and UX                 2         30                     7.3   \n",
       "\n",
       "                                           Top Terms  \n",
       "0  [design, status, graphics, creative, graphic, ...  \n",
       "1  [design, packaging, product, designs, graphic,...  \n",
       "2  [design, marketing, digital, graphic, creative...  \n",
       "3  [content, marketing, digital, social, writing,...  \n",
       "4  [ai, chatbots, conversations, paypal, teach, u...  \n",
       "5  [social, media, marketing, content, brand, pla...  \n",
       "6  [design, user, ux, product, research, ui, desi...  \n",
       "7  [design, web, content, product, user, digital,...  \n",
       "8  [ai, chatbots, code, coding, proficient, able,...  "
      ]
     },
     "execution_count": 26,
     "metadata": {},
     "output_type": "execute_result"
    }
   ],
   "source": [
    "# Skill Subcluster Analysis by Job Category\n",
    "# -----------------------------------------\n",
    "# This code analyzes common skill patterns across three major job categories\n",
    "# (\"Graphic Design\", \"Marketing\", \"Product and UX\") using TF-IDF vectorization\n",
    "# and KMeans clustering. It cleans the skill descriptions and job descriptions,\n",
    "# removes boilerplate terms, and clusters jobs within each category based on\n",
    "# dominant skill themes.\n",
    "\n",
    "from sklearn.feature_extraction.text import TfidfVectorizer\n",
    "\n",
    "\n",
    "# Load dataset with final_group column (e.g., Graphic Design, Marketing, Product and UX)\n",
    "df = pd.read_csv(\"job_postings_with_subclusters_v4.csv\")\n",
    "\n",
    "# Define category mapping from your final column (column I)\n",
    "df['final_group'] = df[df.columns[8]]  # Assuming column I is index 8\n",
    "\n",
    "# Define custom stopwords to filter non-skill language\n",
    "custom_stopwords = set([\n",
    "    'work', 'team', 'position', 'experience', 'including', 'responsible', 'will',\n",
    "    'skills', 'requirements', 'must', 'ability', 'provide', 'use', 'knowledge',\n",
    "    'years', 'job', 'new', 'support', 'may', 'preferred', 'apply', 'please',\n",
    "    'applicants', 'role', 'tools', 'help', 'tasks', 'understanding', 'ensure',\n",
    "    'excellent', 'employer', 'opportunity', 'equal', 'employment', 'application',\n",
    "    'policy', 'procedures', 'required'\n",
    "])\n",
    "\n",
    "# Function to run clustering of skill themes within a job category\n",
    "def subcluster_skills_refined(df, category, n_clusters=3):\n",
    "    subset = df[df['final_group'] == category].copy()\n",
    "    text = (subset['skills_desc'].fillna('') + ' ' + subset['description'].fillna('')).str.lower()\n",
    "\n",
    "    vectorizer = TfidfVectorizer(stop_words='english', max_features=3000)\n",
    "    X = vectorizer.fit_transform(text)\n",
    "    terms = vectorizer.get_feature_names_out()\n",
    "\n",
    "    useful_term_indices = [i for i, term in enumerate(terms) if term not in custom_stopwords]\n",
    "    X_cleaned = X[:, useful_term_indices]\n",
    "    cleaned_terms = terms[useful_term_indices]\n",
    "\n",
    "    kmeans = KMeans(n_clusters=n_clusters, random_state=42)\n",
    "    labels = kmeans.fit_predict(X_cleaned)\n",
    "    subset['skill_subcluster'] = labels\n",
    "\n",
    "    summaries = []\n",
    "    for i in range(n_clusters):\n",
    "        cluster_subset = subset[subset['skill_subcluster'] == i]\n",
    "        count = len(cluster_subset)\n",
    "        percent = round((count / len(subset)) * 100, 1)\n",
    "        cluster_mean = X_cleaned[labels == i].mean(axis=0).A1\n",
    "        top_indices = cluster_mean.argsort()[::-1][:10]\n",
    "        top_terms = [cleaned_terms[j] for j in top_indices]\n",
    "        summaries.append({\n",
    "            'Job Category': category,\n",
    "            'Skill Subcluster': i,\n",
    "            'Job Count': count,\n",
    "            'Percentage of Category': percent,\n",
    "            'Top Terms': top_terms\n",
    "        })\n",
    "\n",
    "    return pd.DataFrame(summaries)\n",
    "\n",
    "# Run the analysis\n",
    "graphic_skills = subcluster_skills_refined(df, \"Graphic Design\")\n",
    "marketing_skills = subcluster_skills_refined(df, \"Marketing\")\n",
    "ux_skills = subcluster_skills_refined(df, \"Product and UX\")\n",
    "\n",
    "# Combine into one table\n",
    "combined_skills_df = pd.concat([graphic_skills, marketing_skills, ux_skills], ignore_index=True)\n",
    "combined_skills_df.to_csv(\"skill_subclusters_combined.csv\", index=False)\n",
    "combined_skills_df\n"
   ]
  },
  {
   "cell_type": "code",
   "execution_count": null,
   "id": "f0fc4638",
   "metadata": {
    "papermill": {
     "duration": 0.004208,
     "end_time": "2025-04-04T22:15:51.673644",
     "exception": false,
     "start_time": "2025-04-04T22:15:51.669436",
     "status": "completed"
    },
    "tags": []
   },
   "outputs": [],
   "source": []
  }
 ],
 "metadata": {
  "kaggle": {
   "accelerator": "none",
   "dataSources": [
    {
     "datasetId": 7049619,
     "sourceId": 11276318,
     "sourceType": "datasetVersion"
    }
   ],
   "dockerImageVersionId": 30918,
   "isGpuEnabled": false,
   "isInternetEnabled": false,
   "language": "python",
   "sourceType": "notebook"
  },
  "kernelspec": {
   "display_name": "3.12.8",
   "language": "python",
   "name": "python3"
  },
  "language_info": {
   "codemirror_mode": {
    "name": "ipython",
    "version": 3
   },
   "file_extension": ".py",
   "mimetype": "text/x-python",
   "name": "python",
   "nbconvert_exporter": "python",
   "pygments_lexer": "ipython3",
   "version": "3.12.8"
  },
  "papermill": {
   "default_parameters": {},
   "duration": 27.358191,
   "end_time": "2025-04-04T22:15:52.903801",
   "environment_variables": {},
   "exception": null,
   "input_path": "__notebook__.ipynb",
   "output_path": "__notebook__.ipynb",
   "parameters": {},
   "start_time": "2025-04-04T22:15:25.545610",
   "version": "2.6.0"
  }
 },
 "nbformat": 4,
 "nbformat_minor": 5
}
