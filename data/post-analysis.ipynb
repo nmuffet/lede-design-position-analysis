{
 "cells": [
  {
   "cell_type": "code",
   "execution_count": 2,
   "id": "7bda9bd7",
   "metadata": {},
   "outputs": [],
   "source": [
    "import pandas as pd\n",
    "df = pd.read_csv('job_postings_with_subclusters_v4.csv')"
   ]
  },
  {
   "cell_type": "code",
   "execution_count": 3,
   "id": "fb732477",
   "metadata": {},
   "outputs": [],
   "source": [
    "with_company = pd.read_csv('postings_filtered_subset_clustered.csv')"
   ]
  },
  {
   "cell_type": "code",
   "execution_count": 4,
   "id": "cc8c0b18",
   "metadata": {},
   "outputs": [
    {
     "data": {
      "application/vnd.microsoft.datawrangler.viewer.v0+json": {
       "columns": [
        {
         "name": "index",
         "rawType": "int64",
         "type": "integer"
        },
        {
         "name": "job_id",
         "rawType": "int64",
         "type": "integer"
        },
        {
         "name": "company_name",
         "rawType": "object",
         "type": "unknown"
        },
        {
         "name": "title",
         "rawType": "object",
         "type": "string"
        },
        {
         "name": "description",
         "rawType": "object",
         "type": "string"
        },
        {
         "name": "company_id",
         "rawType": "float64",
         "type": "float"
        },
        {
         "name": "skills_desc",
         "rawType": "object",
         "type": "unknown"
        },
        {
         "name": "title_lower",
         "rawType": "object",
         "type": "string"
        },
        {
         "name": "desc_lower",
         "rawType": "object",
         "type": "string"
        },
        {
         "name": "combined_text",
         "rawType": "object",
         "type": "string"
        },
        {
         "name": "skills_lower",
         "rawType": "object",
         "type": "unknown"
        },
        {
         "name": "cluster",
         "rawType": "int64",
         "type": "integer"
        },
        {
         "name": "new_cluster",
         "rawType": "int64",
         "type": "integer"
        }
       ],
       "ref": "9ab32cdd-ab2a-4ffd-bcb3-06e758a0afb5",
       "rows": [
        [
         "0",
         "111513530",
         "United Methodists of Greater New Jersey",
         "Content Writer, Communications",
         "Application opening date: April 24, 2024\nTitle: Content WriterClassification: ExemptBand Description: SpecialistSupervisor: Director of Communications\nPosition SummaryThe Content Writer develops and disseminates impactful written content for United Methodists of EPA and GNJ, supporting our mission to recruit and equip transformational spiritual leaders to make disciples and grow vital congregations to transform the world. This is a highly collaborative role in the EPA&GNJ Communications Team.\nwww.gnjumc.orgwww.epaumc.org\nEssential FunctionsCraft and manage engaging content across various channels, aligning with EPA&GNJ’s objectives.Maintain EPA&GNJ editorial calendar.Direct the production of the quarterly “NEWSpirit” newspaper, coordinating content, design, publication, distribution, and budget to uphold high production values and fiscal responsibility.Manage, curate, and track the weekly “Digest” e-newsletter.Regularly write editorial features that highlight local church ministries and conference initiatives.Revising others written content to ensure all-around consistency (style, fonts, images and tone)Compile and produce publications like the AC Pre-Conference Workbooks and the AC Journal.Balance and weigh written and visual content to reflect diversity, intercultural competency, and theological differences within our conferences.\nOrganizational ResponsibilitiesRelated communications duties such as social media assistance, photography, and representing communications team on project teams.Serve as a participant or as a project manager for projects as assigned.Assist in EPA & GNJ meetings and events.\nCore CompetenciesCommitted to continuously grow in intercultural competenceBuild and maintain relationships that are rooted in honesty, integrity and honoring confidentialityWork collaboratively with others to produce innovative solutionsNetworking and initiativeMeet deadlinesAbility to convert ideas into stories, linking EPA&GNJ’s mission to action\nQualificationsPortfolio of published articles (electronic and print)Excellent writing and editing skills in EnglishEvidence of collaboration with clients and within an office environmentHands-on experience with MailChimp, WordPress, SEO tools, Microsoft Suite, and social mediaFamiliarity with web publicationsPhotography skills preferred\nEducationBachelor’s degree in journalism, communications, or public relations\nTravelThe position requires some evening and weekend responsibilities and some travel beyond the office. The position works in a hybrid model from the EPA office in Norristown, PA and GNJ office in Neptune, NJ.\nEPA & GNJ employees through their work help fulfill our mission: recruit and develop transformational leaders to make disciples and grow vital congregations to transform the world. EPA & GNJ values as an organization and in its employeesinnovation and risk takingexcellence in its ministry and servicecompassionate and just servicediversitycollaborationUnited Methodists of Eastern Pennsylvania and Greater New Jersey view all employees as leaders who are critical to the mission, capable of growth and valued.\nInquiries and resumes to be sent to jkim@gnjumc.org until position is filled.\nDownload the full Job Description: Content Writer-2024",
         "4028816.0",
         null,
         "content writer, communications",
         "application opening date: april 24, 2024\ntitle: content writerclassification: exemptband description: specialistsupervisor: director of communications\nposition summarythe content writer develops and disseminates impactful written content for united methodists of epa and gnj, supporting our mission to recruit and equip transformational spiritual leaders to make disciples and grow vital congregations to transform the world. this is a highly collaborative role in the epa&gnj communications team.\nwww.gnjumc.orgwww.epaumc.org\nessential functionscraft and manage engaging content across various channels, aligning with epa&gnj’s objectives.maintain epa&gnj editorial calendar.direct the production of the quarterly “newspirit” newspaper, coordinating content, design, publication, distribution, and budget to uphold high production values and fiscal responsibility.manage, curate, and track the weekly “digest” e-newsletter.regularly write editorial features that highlight local church ministries and conference initiatives.revising others written content to ensure all-around consistency (style, fonts, images and tone)compile and produce publications like the ac pre-conference workbooks and the ac journal.balance and weigh written and visual content to reflect diversity, intercultural competency, and theological differences within our conferences.\norganizational responsibilitiesrelated communications duties such as social media assistance, photography, and representing communications team on project teams.serve as a participant or as a project manager for projects as assigned.assist in epa & gnj meetings and events.\ncore competenciescommitted to continuously grow in intercultural competencebuild and maintain relationships that are rooted in honesty, integrity and honoring confidentialitywork collaboratively with others to produce innovative solutionsnetworking and initiativemeet deadlinesability to convert ideas into stories, linking epa&gnj’s mission to action\nqualificationsportfolio of published articles (electronic and print)excellent writing and editing skills in englishevidence of collaboration with clients and within an office environmenthands-on experience with mailchimp, wordpress, seo tools, microsoft suite, and social mediafamiliarity with web publicationsphotography skills preferred\neducationbachelor’s degree in journalism, communications, or public relations\ntravelthe position requires some evening and weekend responsibilities and some travel beyond the office. the position works in a hybrid model from the epa office in norristown, pa and gnj office in neptune, nj.\nepa & gnj employees through their work help fulfill our mission: recruit and develop transformational leaders to make disciples and grow vital congregations to transform the world. epa & gnj values as an organization and in its employeesinnovation and risk takingexcellence in its ministry and servicecompassionate and just servicediversitycollaborationunited methodists of eastern pennsylvania and greater new jersey view all employees as leaders who are critical to the mission, capable of growth and valued.\ninquiries and resumes to be sent to jkim@gnjumc.org until position is filled.\ndownload the full job description: content writer-2024",
         "content writer, communications application opening date: april 24, 2024\ntitle: content writerclassification: exemptband description: specialistsupervisor: director of communications\nposition summarythe content writer develops and disseminates impactful written content for united methodists of epa and gnj, supporting our mission to recruit and equip transformational spiritual leaders to make disciples and grow vital congregations to transform the world. this is a highly collaborative role in the epa&gnj communications team.\nwww.gnjumc.orgwww.epaumc.org\nessential functionscraft and manage engaging content across various channels, aligning with epa&gnj’s objectives.maintain epa&gnj editorial calendar.direct the production of the quarterly “newspirit” newspaper, coordinating content, design, publication, distribution, and budget to uphold high production values and fiscal responsibility.manage, curate, and track the weekly “digest” e-newsletter.regularly write editorial features that highlight local church ministries and conference initiatives.revising others written content to ensure all-around consistency (style, fonts, images and tone)compile and produce publications like the ac pre-conference workbooks and the ac journal.balance and weigh written and visual content to reflect diversity, intercultural competency, and theological differences within our conferences.\norganizational responsibilitiesrelated communications duties such as social media assistance, photography, and representing communications team on project teams.serve as a participant or as a project manager for projects as assigned.assist in epa & gnj meetings and events.\ncore competenciescommitted to continuously grow in intercultural competencebuild and maintain relationships that are rooted in honesty, integrity and honoring confidentialitywork collaboratively with others to produce innovative solutionsnetworking and initiativemeet deadlinesability to convert ideas into stories, linking epa&gnj’s mission to action\nqualificationsportfolio of published articles (electronic and print)excellent writing and editing skills in englishevidence of collaboration with clients and within an office environmenthands-on experience with mailchimp, wordpress, seo tools, microsoft suite, and social mediafamiliarity with web publicationsphotography skills preferred\neducationbachelor’s degree in journalism, communications, or public relations\ntravelthe position requires some evening and weekend responsibilities and some travel beyond the office. the position works in a hybrid model from the epa office in norristown, pa and gnj office in neptune, nj.\nepa & gnj employees through their work help fulfill our mission: recruit and develop transformational leaders to make disciples and grow vital congregations to transform the world. epa & gnj values as an organization and in its employeesinnovation and risk takingexcellence in its ministry and servicecompassionate and just servicediversitycollaborationunited methodists of eastern pennsylvania and greater new jersey view all employees as leaders who are critical to the mission, capable of growth and valued.\ninquiries and resumes to be sent to jkim@gnjumc.org until position is filled.\ndownload the full job description: content writer-2024 ",
         null,
         "0",
         "0"
        ],
        [
         "1",
         "1573178251",
         null,
         "Social Media Coordinator",
         "🚀 Exciting Opportunity Alert! (no previous experience required) \nAre you a social media enthusiast looking to turn your passion into profit? Look no further! We're on the hunt for talented individuals to join our team as Social Media Coordinators.\nPosition: Social Media CoordinatorCompany: bagel bossLocation: Remote (Work from anywhere in the world)Language: EnglishTime Commitment: Just 3+ hours per weekResponsibilities:Curate and upload captivating images to the company's Instagram account.Engage with followers and maintain a vibrant online presence.Collaborate with the marketing team to develop creative content strategies.Requirements:Access to a smartphone, tablet, or computer.Reliable internet connection.No prior experience necessary! We provide full training.Don't miss out on this incredible opportunity to kickstart your career in the dynamic world of social media. Apply now before the deadline at midnight tonight!Salary: Up to $150/day\nApplication Requirements:CV and passion for social media",
         null,
         null,
         "social media coordinator",
         "🚀 exciting opportunity alert! (no previous experience required) \nare you a social media enthusiast looking to turn your passion into profit? look no further! we're on the hunt for talented individuals to join our team as social media coordinators.\nposition: social media coordinatorcompany: bagel bosslocation: remote (work from anywhere in the world)language: englishtime commitment: just 3+ hours per weekresponsibilities:curate and upload captivating images to the company's instagram account.engage with followers and maintain a vibrant online presence.collaborate with the marketing team to develop creative content strategies.requirements:access to a smartphone, tablet, or computer.reliable internet connection.no prior experience necessary! we provide full training.don't miss out on this incredible opportunity to kickstart your career in the dynamic world of social media. apply now before the deadline at midnight tonight!salary: up to $150/day\napplication requirements:cv and passion for social media",
         "social media coordinator 🚀 exciting opportunity alert! (no previous experience required) \nare you a social media enthusiast looking to turn your passion into profit? look no further! we're on the hunt for talented individuals to join our team as social media coordinators.\nposition: social media coordinatorcompany: bagel bosslocation: remote (work from anywhere in the world)language: englishtime commitment: just 3+ hours per weekresponsibilities:curate and upload captivating images to the company's instagram account.engage with followers and maintain a vibrant online presence.collaborate with the marketing team to develop creative content strategies.requirements:access to a smartphone, tablet, or computer.reliable internet connection.no prior experience necessary! we provide full training.don't miss out on this incredible opportunity to kickstart your career in the dynamic world of social media. apply now before the deadline at midnight tonight!salary: up to $150/day\napplication requirements:cv and passion for social media ",
         null,
         "2",
         "2"
        ],
        [
         "2",
         "2954591060",
         "Naked Wardrobe",
         "Social Media Coordinator",
         "Global Sculpted Streetwear fashion brand, Naked Wardrobe, is searching to hire a highly creative Social Media Coordinator to develop, write and share innovative content with the world to drive sales and while building brand awareness on all social media platforms. This candidate will be working alongside our marketing team to ensure customer engagement, brand consistency, and a positive customer experience. Responsibilities: Execute content scheduling, social moderation, and analytics for company social media channelsAnalyzes and reports on audience demographics and engagement metrics, social media campaigns, and online reviews/feedbackPropose new ideas and concepts for social media content and productsUse timelines and scheduled content to create a constant stream of new content for audience interaction to optimize visits Qualifications Bachelors degree preferredTech and social media expert (IG, FB, TikTok, Pinterest, SnapChat, etc).3-5 experience in marketing within the fashion/retail industryExpertise in multiple social media platforms with experience in content/marketing calendars, scheduling, community moderation and social analytic skillsExcellent copywriting skillsAbility to identify and produce creative contentRemain innovative by setting trends in digital technologies and act proactivelyExcellent communication and collaboration skillsMust reside in or near Los Angeles. ",
         "23674217.0",
         null,
         "social media coordinator",
         "global sculpted streetwear fashion brand, naked wardrobe, is searching to hire a highly creative social media coordinator to develop, write and share innovative content with the world to drive sales and while building brand awareness on all social media platforms. this candidate will be working alongside our marketing team to ensure customer engagement, brand consistency, and a positive customer experience. responsibilities: execute content scheduling, social moderation, and analytics for company social media channelsanalyzes and reports on audience demographics and engagement metrics, social media campaigns, and online reviews/feedbackpropose new ideas and concepts for social media content and productsuse timelines and scheduled content to create a constant stream of new content for audience interaction to optimize visits qualifications bachelors degree preferredtech and social media expert (ig, fb, tiktok, pinterest, snapchat, etc).3-5 experience in marketing within the fashion/retail industryexpertise in multiple social media platforms with experience in content/marketing calendars, scheduling, community moderation and social analytic skillsexcellent copywriting skillsability to identify and produce creative contentremain innovative by setting trends in digital technologies and act proactivelyexcellent communication and collaboration skillsmust reside in or near los angeles. ",
         "social media coordinator global sculpted streetwear fashion brand, naked wardrobe, is searching to hire a highly creative social media coordinator to develop, write and share innovative content with the world to drive sales and while building brand awareness on all social media platforms. this candidate will be working alongside our marketing team to ensure customer engagement, brand consistency, and a positive customer experience. responsibilities: execute content scheduling, social moderation, and analytics for company social media channelsanalyzes and reports on audience demographics and engagement metrics, social media campaigns, and online reviews/feedbackpropose new ideas and concepts for social media content and productsuse timelines and scheduled content to create a constant stream of new content for audience interaction to optimize visits qualifications bachelors degree preferredtech and social media expert (ig, fb, tiktok, pinterest, snapchat, etc).3-5 experience in marketing within the fashion/retail industryexpertise in multiple social media platforms with experience in content/marketing calendars, scheduling, community moderation and social analytic skillsexcellent copywriting skillsability to identify and produce creative contentremain innovative by setting trends in digital technologies and act proactivelyexcellent communication and collaboration skillsmust reside in or near los angeles.  ",
         null,
         "2",
         "2"
        ],
        [
         "3",
         "3196627399",
         "Bellevue Downtown Association",
         "Marketing & Communications – Content Writer Internship",
         "Marketing & Communications – Content Writer Internship (Paid $17.00/Hour) – Bellevue Downtown Association Spring-Summer 2024 Bellevue, WA – In Person  The Bellevue Downtown Association (BDA) seeks a Marketing & Communications Content Writer Intern to support the development and implementation of communications and marketing programs to position downtown Bellevue as a dynamic, creative and diverse civic and cultural community. We seek an individual who is a strong writer and has a solid understanding of content creation and writing for blogs/online, social media, marketing, database management and public relations.  Applicants must submit a cover letter and resume. We anticipate the internship beginning in May and lasting through August, with a flexible end date pending intern schedule and availability. The intern will be working in-office 20 hours a week.  Internship Role & Responsibilities: Develop story ideas and content for the Bellevue Downtown Association’s website, association newsletter articles and materials supporting communications initiatives. Completing writing projects, meeting deadlines and following Produce quality writing that connects with target audiences, boosts engagement, and enhances Downtown Bellevue’s presence Assist with day-to-day tracking of key issues and trends throughout the region. Assist in updating the online dining, services, shopping and happy hour guides and event calendar listings. Assist in updating and tracking the Bellevue Downtown Association’s social media sites (primarily Facebook, Instagram and Twitter). Creating content for the “Heart of Bellevue” campaign, including researching and developing story ideas, writing spotlight stories on small businesses, interviewing the Downtown Bellevue community, and implementing content throughout our marketing/communications platforms Support oversight and maintenance of web site content with current event information and images. Assist with post-event reports for event partners. Be an ambassador for the Bellevue Downtown Association through potential tabling opportunities and BDA community events.Additional duties as assigned.  Desired Qualifications: Pursuing or completed bachelor’s degree in communications, journalism, marketing, digital media, business administration, or related field. Excellent oral and written communication skills. Excellent time management skills and ability to complete projects on time. Experience and proficiency with email marketing platforms, including layout and design of emails. Positive, can-do attitude, with a strong desire to learn. Strong attention to detail, with experience managing lists and proofreading professional materials. Proficiency in Microsoft Office and Adobe Creative Suite. Proficiency with content management systems and HTML. Track record of problem solving and team collaboration. A self-starter who takes appropriate initiative to improve processes. An excellent team player. Strong interest in the Bellevue community and Downtown Bellevue.  The Bellevue Downtown Association is an equal opportunity employer. Qualified applicants will receive consideration for employment without regard to age, ancestry, color, family or medical care leave, gender identity or expression, genetic information, marital status, medical condition, national origin, physical or mental disability, political affiliation, protected veteran status, race, religion, sex (including pregnancy), sexual orientation, or any other characteristic protected by applicable laws, regulations and ordinances.  About the Bellevue Downtown Association We're the people behind the place, the business and civic leaders who champion a healthy Downtown community. Established in 1974, the Bellevue Downtown Association supports its members with best-in-class advocacy, major community events, and strategic programs to help the Downtown area thrive. The BDA works to spotlight member successes and sustain the leadership and collaboration needed to shape Downtown's Bellevue's growth and progress. ",
         "88304.0",
         null,
         "marketing & communications – content writer internship",
         "marketing & communications – content writer internship (paid $17.00/hour) – bellevue downtown association spring-summer 2024 bellevue, wa – in person  the bellevue downtown association (bda) seeks a marketing & communications content writer intern to support the development and implementation of communications and marketing programs to position downtown bellevue as a dynamic, creative and diverse civic and cultural community. we seek an individual who is a strong writer and has a solid understanding of content creation and writing for blogs/online, social media, marketing, database management and public relations.  applicants must submit a cover letter and resume. we anticipate the internship beginning in may and lasting through august, with a flexible end date pending intern schedule and availability. the intern will be working in-office 20 hours a week.  internship role & responsibilities: develop story ideas and content for the bellevue downtown association’s website, association newsletter articles and materials supporting communications initiatives. completing writing projects, meeting deadlines and following produce quality writing that connects with target audiences, boosts engagement, and enhances downtown bellevue’s presence assist with day-to-day tracking of key issues and trends throughout the region. assist in updating the online dining, services, shopping and happy hour guides and event calendar listings. assist in updating and tracking the bellevue downtown association’s social media sites (primarily facebook, instagram and twitter). creating content for the “heart of bellevue” campaign, including researching and developing story ideas, writing spotlight stories on small businesses, interviewing the downtown bellevue community, and implementing content throughout our marketing/communications platforms support oversight and maintenance of web site content with current event information and images. assist with post-event reports for event partners. be an ambassador for the bellevue downtown association through potential tabling opportunities and bda community events.additional duties as assigned.  desired qualifications: pursuing or completed bachelor’s degree in communications, journalism, marketing, digital media, business administration, or related field. excellent oral and written communication skills. excellent time management skills and ability to complete projects on time. experience and proficiency with email marketing platforms, including layout and design of emails. positive, can-do attitude, with a strong desire to learn. strong attention to detail, with experience managing lists and proofreading professional materials. proficiency in microsoft office and adobe creative suite. proficiency with content management systems and html. track record of problem solving and team collaboration. a self-starter who takes appropriate initiative to improve processes. an excellent team player. strong interest in the bellevue community and downtown bellevue.  the bellevue downtown association is an equal opportunity employer. qualified applicants will receive consideration for employment without regard to age, ancestry, color, family or medical care leave, gender identity or expression, genetic information, marital status, medical condition, national origin, physical or mental disability, political affiliation, protected veteran status, race, religion, sex (including pregnancy), sexual orientation, or any other characteristic protected by applicable laws, regulations and ordinances.  about the bellevue downtown association we're the people behind the place, the business and civic leaders who champion a healthy downtown community. established in 1974, the bellevue downtown association supports its members with best-in-class advocacy, major community events, and strategic programs to help the downtown area thrive. the bda works to spotlight member successes and sustain the leadership and collaboration needed to shape downtown's bellevue's growth and progress. ",
         "marketing & communications – content writer internship marketing & communications – content writer internship (paid $17.00/hour) – bellevue downtown association spring-summer 2024 bellevue, wa – in person  the bellevue downtown association (bda) seeks a marketing & communications content writer intern to support the development and implementation of communications and marketing programs to position downtown bellevue as a dynamic, creative and diverse civic and cultural community. we seek an individual who is a strong writer and has a solid understanding of content creation and writing for blogs/online, social media, marketing, database management and public relations.  applicants must submit a cover letter and resume. we anticipate the internship beginning in may and lasting through august, with a flexible end date pending intern schedule and availability. the intern will be working in-office 20 hours a week.  internship role & responsibilities: develop story ideas and content for the bellevue downtown association’s website, association newsletter articles and materials supporting communications initiatives. completing writing projects, meeting deadlines and following produce quality writing that connects with target audiences, boosts engagement, and enhances downtown bellevue’s presence assist with day-to-day tracking of key issues and trends throughout the region. assist in updating the online dining, services, shopping and happy hour guides and event calendar listings. assist in updating and tracking the bellevue downtown association’s social media sites (primarily facebook, instagram and twitter). creating content for the “heart of bellevue” campaign, including researching and developing story ideas, writing spotlight stories on small businesses, interviewing the downtown bellevue community, and implementing content throughout our marketing/communications platforms support oversight and maintenance of web site content with current event information and images. assist with post-event reports for event partners. be an ambassador for the bellevue downtown association through potential tabling opportunities and bda community events.additional duties as assigned.  desired qualifications: pursuing or completed bachelor’s degree in communications, journalism, marketing, digital media, business administration, or related field. excellent oral and written communication skills. excellent time management skills and ability to complete projects on time. experience and proficiency with email marketing platforms, including layout and design of emails. positive, can-do attitude, with a strong desire to learn. strong attention to detail, with experience managing lists and proofreading professional materials. proficiency in microsoft office and adobe creative suite. proficiency with content management systems and html. track record of problem solving and team collaboration. a self-starter who takes appropriate initiative to improve processes. an excellent team player. strong interest in the bellevue community and downtown bellevue.  the bellevue downtown association is an equal opportunity employer. qualified applicants will receive consideration for employment without regard to age, ancestry, color, family or medical care leave, gender identity or expression, genetic information, marital status, medical condition, national origin, physical or mental disability, political affiliation, protected veteran status, race, religion, sex (including pregnancy), sexual orientation, or any other characteristic protected by applicable laws, regulations and ordinances.  about the bellevue downtown association we're the people behind the place, the business and civic leaders who champion a healthy downtown community. established in 1974, the bellevue downtown association supports its members with best-in-class advocacy, major community events, and strategic programs to help the downtown area thrive. the bda works to spotlight member successes and sustain the leadership and collaboration needed to shape downtown's bellevue's growth and progress.  ",
         null,
         "0",
         "0"
        ],
        [
         "4",
         "3422171886",
         "Century Trucks & Vans",
         "Social Media Manager and Graphic Designer",
         "\nPosition: Social Media Manager and Graphic Designer\nCompany: Century Trucks & Vans\nLocation: 1300 E Main Street, 75050 Grand Prairie, TX\n\nJob Overview:We are looking for a talented Social Media Manager and Graphic Designer to take charge of our online presence and drive engagement across various social media platforms. This role combines the responsibilities of managing social media accounts with creating compelling graphics and visual assets to support our marketing efforts. You will be working directly under our marketing manager, who will guide and instruct you all the while. This position offers an extreme amount of autonomy, you will be able to manage all of the accounts as you see fit, with the ability to experiment and try new strategies under the marketing manager's supervision. We are seeking someone who is skilled in these fields, but is looking to make their own path forward.\nResponsibilities:Manage all aspects of Century Trucks & Vans' social media platforms, including content creation, posting, customer interactions, and review responses.Produce high-quality photos and videos for use on social media and other marketing channels, with proficiency in capturing, editing, and enhancing visual content to align with our marketing goals.Create graphics and visual assets for marketing materials such as flyers, prints, landing pages, and website images.Stay informed about marketing and social media best practices, trends, and platform updates to ensure our content remains relevant and effective.Collaborate with the marketing team to develop and implement strategies that drive brand awareness, engagement, and conversion.Monitor social media analytics and performance metrics to track progress and identify opportunities for improvement.Qualifications:Bachelor's degree in Marketing, Communications, Graphic Design, or related field preferred.Proven experience managing social media accounts for businesses, with a strong understanding of platform dynamics and best practices preferred.Proficiency in photography, videography, and graphic design, with the ability to create compelling visuals using industry-standard software and tools.Excellent communication skills and a collaborative mindset, with the ability to work effectively within a team environment.A keen eye for detail and aesthetics, coupled with a creative flair and innovative approach to content creation.Automotive and/or dealership experience is a plus, but by no means neededBenefits:Competitive salary and comprehensive benefits packageOpportunities for professional development and career advancementTraining in marketing and social media management best practicesStraight forward, non \"corporate\" work environmentSupportive and inclusive work environmentEmployee discounts on vehicles and services\n\n",
         "89951074.0",
         null,
         "social media manager and graphic designer",
         "\nposition: social media manager and graphic designer\ncompany: century trucks & vans\nlocation: 1300 e main street, 75050 grand prairie, tx\n\njob overview:we are looking for a talented social media manager and graphic designer to take charge of our online presence and drive engagement across various social media platforms. this role combines the responsibilities of managing social media accounts with creating compelling graphics and visual assets to support our marketing efforts. you will be working directly under our marketing manager, who will guide and instruct you all the while. this position offers an extreme amount of autonomy, you will be able to manage all of the accounts as you see fit, with the ability to experiment and try new strategies under the marketing manager's supervision. we are seeking someone who is skilled in these fields, but is looking to make their own path forward.\nresponsibilities:manage all aspects of century trucks & vans' social media platforms, including content creation, posting, customer interactions, and review responses.produce high-quality photos and videos for use on social media and other marketing channels, with proficiency in capturing, editing, and enhancing visual content to align with our marketing goals.create graphics and visual assets for marketing materials such as flyers, prints, landing pages, and website images.stay informed about marketing and social media best practices, trends, and platform updates to ensure our content remains relevant and effective.collaborate with the marketing team to develop and implement strategies that drive brand awareness, engagement, and conversion.monitor social media analytics and performance metrics to track progress and identify opportunities for improvement.qualifications:bachelor's degree in marketing, communications, graphic design, or related field preferred.proven experience managing social media accounts for businesses, with a strong understanding of platform dynamics and best practices preferred.proficiency in photography, videography, and graphic design, with the ability to create compelling visuals using industry-standard software and tools.excellent communication skills and a collaborative mindset, with the ability to work effectively within a team environment.a keen eye for detail and aesthetics, coupled with a creative flair and innovative approach to content creation.automotive and/or dealership experience is a plus, but by no means neededbenefits:competitive salary and comprehensive benefits packageopportunities for professional development and career advancementtraining in marketing and social media management best practicesstraight forward, non \"corporate\" work environmentsupportive and inclusive work environmentemployee discounts on vehicles and services\n\n",
         "social media manager and graphic designer \nposition: social media manager and graphic designer\ncompany: century trucks & vans\nlocation: 1300 e main street, 75050 grand prairie, tx\n\njob overview:we are looking for a talented social media manager and graphic designer to take charge of our online presence and drive engagement across various social media platforms. this role combines the responsibilities of managing social media accounts with creating compelling graphics and visual assets to support our marketing efforts. you will be working directly under our marketing manager, who will guide and instruct you all the while. this position offers an extreme amount of autonomy, you will be able to manage all of the accounts as you see fit, with the ability to experiment and try new strategies under the marketing manager's supervision. we are seeking someone who is skilled in these fields, but is looking to make their own path forward.\nresponsibilities:manage all aspects of century trucks & vans' social media platforms, including content creation, posting, customer interactions, and review responses.produce high-quality photos and videos for use on social media and other marketing channels, with proficiency in capturing, editing, and enhancing visual content to align with our marketing goals.create graphics and visual assets for marketing materials such as flyers, prints, landing pages, and website images.stay informed about marketing and social media best practices, trends, and platform updates to ensure our content remains relevant and effective.collaborate with the marketing team to develop and implement strategies that drive brand awareness, engagement, and conversion.monitor social media analytics and performance metrics to track progress and identify opportunities for improvement.qualifications:bachelor's degree in marketing, communications, graphic design, or related field preferred.proven experience managing social media accounts for businesses, with a strong understanding of platform dynamics and best practices preferred.proficiency in photography, videography, and graphic design, with the ability to create compelling visuals using industry-standard software and tools.excellent communication skills and a collaborative mindset, with the ability to work effectively within a team environment.a keen eye for detail and aesthetics, coupled with a creative flair and innovative approach to content creation.automotive and/or dealership experience is a plus, but by no means neededbenefits:competitive salary and comprehensive benefits packageopportunities for professional development and career advancementtraining in marketing and social media management best practicesstraight forward, non \"corporate\" work environmentsupportive and inclusive work environmentemployee discounts on vehicles and services\n\n ",
         null,
         "2",
         "2"
        ]
       ],
       "shape": {
        "columns": 12,
        "rows": 5
       }
      },
      "text/html": [
       "<div>\n",
       "<style scoped>\n",
       "    .dataframe tbody tr th:only-of-type {\n",
       "        vertical-align: middle;\n",
       "    }\n",
       "\n",
       "    .dataframe tbody tr th {\n",
       "        vertical-align: top;\n",
       "    }\n",
       "\n",
       "    .dataframe thead th {\n",
       "        text-align: right;\n",
       "    }\n",
       "</style>\n",
       "<table border=\"1\" class=\"dataframe\">\n",
       "  <thead>\n",
       "    <tr style=\"text-align: right;\">\n",
       "      <th></th>\n",
       "      <th>job_id</th>\n",
       "      <th>company_name</th>\n",
       "      <th>title</th>\n",
       "      <th>description</th>\n",
       "      <th>company_id</th>\n",
       "      <th>skills_desc</th>\n",
       "      <th>title_lower</th>\n",
       "      <th>desc_lower</th>\n",
       "      <th>combined_text</th>\n",
       "      <th>skills_lower</th>\n",
       "      <th>cluster</th>\n",
       "      <th>new_cluster</th>\n",
       "    </tr>\n",
       "  </thead>\n",
       "  <tbody>\n",
       "    <tr>\n",
       "      <th>0</th>\n",
       "      <td>111513530</td>\n",
       "      <td>United Methodists of Greater New Jersey</td>\n",
       "      <td>Content Writer, Communications</td>\n",
       "      <td>Application opening date: April 24, 2024\\nTitl...</td>\n",
       "      <td>4028816.0</td>\n",
       "      <td>NaN</td>\n",
       "      <td>content writer, communications</td>\n",
       "      <td>application opening date: april 24, 2024\\ntitl...</td>\n",
       "      <td>content writer, communications application ope...</td>\n",
       "      <td>NaN</td>\n",
       "      <td>0</td>\n",
       "      <td>0</td>\n",
       "    </tr>\n",
       "    <tr>\n",
       "      <th>1</th>\n",
       "      <td>1573178251</td>\n",
       "      <td>NaN</td>\n",
       "      <td>Social Media Coordinator</td>\n",
       "      <td>🚀 Exciting Opportunity Alert! (no previous exp...</td>\n",
       "      <td>NaN</td>\n",
       "      <td>NaN</td>\n",
       "      <td>social media coordinator</td>\n",
       "      <td>🚀 exciting opportunity alert! (no previous exp...</td>\n",
       "      <td>social media coordinator 🚀 exciting opportunit...</td>\n",
       "      <td>NaN</td>\n",
       "      <td>2</td>\n",
       "      <td>2</td>\n",
       "    </tr>\n",
       "    <tr>\n",
       "      <th>2</th>\n",
       "      <td>2954591060</td>\n",
       "      <td>Naked Wardrobe</td>\n",
       "      <td>Social Media Coordinator</td>\n",
       "      <td>Global Sculpted Streetwear fashion brand, Nake...</td>\n",
       "      <td>23674217.0</td>\n",
       "      <td>NaN</td>\n",
       "      <td>social media coordinator</td>\n",
       "      <td>global sculpted streetwear fashion brand, nake...</td>\n",
       "      <td>social media coordinator global sculpted stree...</td>\n",
       "      <td>NaN</td>\n",
       "      <td>2</td>\n",
       "      <td>2</td>\n",
       "    </tr>\n",
       "    <tr>\n",
       "      <th>3</th>\n",
       "      <td>3196627399</td>\n",
       "      <td>Bellevue Downtown Association</td>\n",
       "      <td>Marketing &amp; Communications – Content Writer In...</td>\n",
       "      <td>Marketing &amp; Communications – Content Writer In...</td>\n",
       "      <td>88304.0</td>\n",
       "      <td>NaN</td>\n",
       "      <td>marketing &amp; communications – content writer in...</td>\n",
       "      <td>marketing &amp; communications – content writer in...</td>\n",
       "      <td>marketing &amp; communications – content writer in...</td>\n",
       "      <td>NaN</td>\n",
       "      <td>0</td>\n",
       "      <td>0</td>\n",
       "    </tr>\n",
       "    <tr>\n",
       "      <th>4</th>\n",
       "      <td>3422171886</td>\n",
       "      <td>Century Trucks &amp; Vans</td>\n",
       "      <td>Social Media Manager and Graphic Designer</td>\n",
       "      <td>\\nPosition: Social Media Manager and Graphic D...</td>\n",
       "      <td>89951074.0</td>\n",
       "      <td>NaN</td>\n",
       "      <td>social media manager and graphic designer</td>\n",
       "      <td>\\nposition: social media manager and graphic d...</td>\n",
       "      <td>social media manager and graphic designer \\npo...</td>\n",
       "      <td>NaN</td>\n",
       "      <td>2</td>\n",
       "      <td>2</td>\n",
       "    </tr>\n",
       "  </tbody>\n",
       "</table>\n",
       "</div>"
      ],
      "text/plain": [
       "       job_id                             company_name  \\\n",
       "0   111513530  United Methodists of Greater New Jersey   \n",
       "1  1573178251                                      NaN   \n",
       "2  2954591060                           Naked Wardrobe   \n",
       "3  3196627399            Bellevue Downtown Association   \n",
       "4  3422171886                    Century Trucks & Vans   \n",
       "\n",
       "                                               title  \\\n",
       "0                     Content Writer, Communications   \n",
       "1                           Social Media Coordinator   \n",
       "2                           Social Media Coordinator   \n",
       "3  Marketing & Communications – Content Writer In...   \n",
       "4          Social Media Manager and Graphic Designer   \n",
       "\n",
       "                                         description  company_id skills_desc  \\\n",
       "0  Application opening date: April 24, 2024\\nTitl...   4028816.0         NaN   \n",
       "1  🚀 Exciting Opportunity Alert! (no previous exp...         NaN         NaN   \n",
       "2  Global Sculpted Streetwear fashion brand, Nake...  23674217.0         NaN   \n",
       "3  Marketing & Communications – Content Writer In...     88304.0         NaN   \n",
       "4  \\nPosition: Social Media Manager and Graphic D...  89951074.0         NaN   \n",
       "\n",
       "                                         title_lower  \\\n",
       "0                     content writer, communications   \n",
       "1                           social media coordinator   \n",
       "2                           social media coordinator   \n",
       "3  marketing & communications – content writer in...   \n",
       "4          social media manager and graphic designer   \n",
       "\n",
       "                                          desc_lower  \\\n",
       "0  application opening date: april 24, 2024\\ntitl...   \n",
       "1  🚀 exciting opportunity alert! (no previous exp...   \n",
       "2  global sculpted streetwear fashion brand, nake...   \n",
       "3  marketing & communications – content writer in...   \n",
       "4  \\nposition: social media manager and graphic d...   \n",
       "\n",
       "                                       combined_text skills_lower  cluster  \\\n",
       "0  content writer, communications application ope...          NaN        0   \n",
       "1  social media coordinator 🚀 exciting opportunit...          NaN        2   \n",
       "2  social media coordinator global sculpted stree...          NaN        2   \n",
       "3  marketing & communications – content writer in...          NaN        0   \n",
       "4  social media manager and graphic designer \\npo...          NaN        2   \n",
       "\n",
       "   new_cluster  \n",
       "0            0  \n",
       "1            2  \n",
       "2            2  \n",
       "3            0  \n",
       "4            2  "
      ]
     },
     "execution_count": 4,
     "metadata": {},
     "output_type": "execute_result"
    }
   ],
   "source": [
    "with_company.head()"
   ]
  },
  {
   "cell_type": "code",
   "execution_count": 5,
   "id": "f71ac740",
   "metadata": {},
   "outputs": [
    {
     "data": {
      "application/vnd.microsoft.datawrangler.viewer.v0+json": {
       "columns": [
        {
         "name": "index",
         "rawType": "int64",
         "type": "integer"
        },
        {
         "name": "title",
         "rawType": "object",
         "type": "string"
        },
        {
         "name": "description",
         "rawType": "object",
         "type": "string"
        },
        {
         "name": "skills_desc",
         "rawType": "object",
         "type": "unknown"
        },
        {
         "name": "title_cluster_10_cleaned",
         "rawType": "int64",
         "type": "integer"
        },
        {
         "name": "title_cluster_cleaned_label",
         "rawType": "object",
         "type": "string"
        },
        {
         "name": "cluster_2_subcluster",
         "rawType": "float64",
         "type": "float"
        },
        {
         "name": "cluster_7_subcluster",
         "rawType": "float64",
         "type": "float"
        },
        {
         "name": "flag_graphic_design_miscluster",
         "rawType": "bool",
         "type": "boolean"
        },
        {
         "name": "Final label",
         "rawType": "object",
         "type": "string"
        }
       ],
       "ref": "1c977cb2-0437-4b63-adec-7b5e0e8e3e39",
       "rows": [
        [
         "0",
         "Motion Graphic Designer and Film Editor",
         "Company DescriptionElica Electric Co is an electrical engineering company founded in 2010, located in Isfahan, Iran. We specialize in providing Schneider Electric, ABB and Finder products. Schneider Electric offers energy and automation digital solutions for efficiency and sustainability. We strive to offer original products and technical support to our customers. Role DescriptionThis is a full-time on-site role for a Motion Graphic Designer and Film Editor at Elica Electric Co. The role involves creating motion graphics, video production, graphic design, and creating graphics. The Motion Graphic Designer and Film Editor will be responsible for designing and editing visual elements for various projects. QualificationsMotion Design and Motion Graphics skillsVideo Production and Editing skillsGraphic Design and Graphics skillsProficiency in Adobe Creative Suite (After Effects, Premiere Pro, Illustrator, Photoshop)Strong attention to detail and ability to meet deadlinesAbility to work collaboratively in a team environmentGood communication skills and ability to take directionExperience in the electrical engineering industry is a plus\n",
         null,
         "0",
         "Graphic Design / Motion",
         null,
         null,
         "False",
         "Graphic Design"
        ],
        [
         "1",
         "Graphic Designer",
         "About Us: At Puffer, our mission is to increase the security, decentralization, and sustainability of blockchain ecosystems. We are a group of hardworking enthusiasts who are deeply focused on building and democratizing the future of Ethereum. Imagine a world where regular individuals can contribute to the Ethereum network with less risk and more rewards. That is our reality. At Puffer, you’ll have the opportunity to be part of a team that is building state-of-the-art technology that will reshape the landscape. \nAbout the Role:We are looking for an experienced Graphic Designer to join our team. You will be working closely with the marketing team to create high-quality visual content for a variety of marketing materials for digital campaigns and offline events. If you’re looking to collaborate with a global talented team on a revolutionary project, we look forward to hearing from you!\nKey Responsibilities:Manage design projects from inception to completion, ensuring timely delivery of top-notch work in a fast-paced environment.Translate concepts into impactful designs with minimal guidance, showcasing a strong dedication to design excellence.Create multimedia narratives that captivate audiences and effectively communicate objectives.Collaborate closely with the marketing team to develop diverse creative contents for social media, blogs, and websites.Coordinate with external parties to design collaborative marketing materials.Take ownership of designing and producing offline event materials, including t-shirts, stickers, and posters, from conceptualization to final production.\nRequirements:3+ years of experience in graphic design, preferably in the blockchain spaceA strong portfolio that showcases your design skills and creativitySolid understanding of typography and layoutAbility to multitask and work on multiple projects under tight deadlinesProficiency in Adobe Creative Suite and FigmaSelf-motivated with a willingness to learn and take initiativeExcellent problem-solving and collaboration skillsExperience with motion design is a plusExperience in event management is a plus\nCompensation range: 75-150k with potential token allocation depending on experience and performance.\nAdditional Information:This is a full-time position, and compensation will be commensurate with experience. Puffer Finance offers a remote work environment, allowing you the flexibility to contribute to cutting-edge projects from the comfort of your own space.\nHow to Apply:Please submit your resume and portfolio to diana@puffer.fi. We welcome applicants from diverse backgrounds.",
         null,
         "0",
         "Graphic Design / Motion",
         null,
         null,
         "False",
         "Graphic Design"
        ],
        [
         "2",
         "Graphic Designer",
         "The ideal candidate will have strong creative skills and a portfolio of work which demonstrates their passion for illustrative design and typography. This candidate will have experiences in working with numerous different design platforms such as digital and print forms.  ResponsibilitiesCollaborate with the team to ensure consistency of designs across various media outlets Create compelling and effective logos, designs, print and digital media Maintain awareness of current industry and technology standards, social media, competitive landscape and market trends\nQualificationsBachelor's degree in Graphic Design or related field 2-4 years of experience in graphic design Proficient in Adobe Creative Suite Strong communication, conceptual thinking, typography skills and design skills Portfolio of work",
         null,
         "0",
         "Graphic Design / Motion",
         null,
         null,
         "False",
         "Graphic Design"
        ],
        [
         "3",
         "Graphic Designer ",
         "Job Title: Graphic Designer Payrate:- $35-38/hrLocation: Bolingbrook, IL - 60440 Duration: 3 Months Job Type: Hybrid   Job Description: Develop and drive innovative solutions across our digital marketing channels .Will work with the Manager, Digital Design and the team, as well as teams across Ad Operations, Sale & Account Management, Merchandising and Marketing. Principal Duties & Responsibilities (*Essential Functions) Design creative projects for targeted marketing campaigns across a number of retail media ad products. Produce digital content through the creation of digital ads, GIFs and animations across various platforms. Ability to work with video footage, animations, illustrations, etc. Understanding of all social channel ad products, industry best practices and specs. Understanding of various proofing tools and collaborative project management tools. Highly professional with the ability to deliver solid work on tight schedules. Implement the client brand identity, visual and voice into every campaign & communication. Utilizes outstanding design skills and demonstrates innovation in creating original solutions. Communicates and presents design concepts; builds presentation materials that successfully communicate design concepts. Be able to brief and collaborate with outside partners to communicate creative direction, execute campaigns and deliver assets. Shares knowledge, experience, and skill with other designers; works with design counterparts to ensure continuity across digital touchpoints. Becomes an expert on the function and capabilities of our platforms. High level of proficiency within Figma will be a requirement for the candidate. Skills to be added in Ceipal: 2 years in digital visual design for marketing, and/or advertising projects Required Portfolio of work with experience in digital marketing with a love for content creation—design, GIF, video, photography Required Knowledge of all social media platforms, best practices, ad specs and latest trends Required A desire & ability to drive innovation, both in technology and in process Required High level of proficiency with the following programs & languages: Adobe Creative Suite, Premiere and Aftereffects, InVision, Sketch, Workfront Required Efficient time management skills and ability to work under tight deadlines Required Excellent written, communication and presentation skills Required Bachelors Degree in Design, Media Arts or similar Required A passion for client, its products, and its guests is a requirement Required High level of proficiency within Figma will be a requirement for the candidate. Required Could be required to be onsite 6 days a month Required",
         null,
         "0",
         "Graphic Design / Motion",
         null,
         null,
         "False",
         "Graphic Design"
        ],
        [
         "4",
         "Senior Graphic Designer - Presentations",
         "About The Role\n\nHuemen is looking for a Senior Graphic Designer – Presentations to join a team focused on elevating experiences and visibility for the lifestyle marketing team.\n\nThe Senior Graphic Designer - Presentations will be responsible for the visual expression across several presentation and Graphic Design initiatives for the North America Lifestyle Marketing team. This position will partner closely with NA Marketing team and work directly with the Huemen Brand Communications team to concept & create beautiful and culturally relevant graphics and presentations for multiple marketing initiatives. Including but not limited to Print, web, mobile, social, retail, & events.\n\nWhat You Will Do\n\nEngage, strategize, and collaborate with primary stakeholders on day-to-day basis. Develop infographics, charts, illustrations, and various presentation content to help unpack and explain given narrative. Work closely with the design team to improve the quality of deliverables. Ensure the designs and copy meet required specifications for quality and function prior to delivery. Utilize 2D animation to create powerful and compelling presentations. Write clear copy as needed for presentation purposes. Work with creative professionals to build marketing projects and campaigns. Produce error-free content that adheres to the company’s style guidelines. \n\nWhat You Need\n\n2D or 3D Animation and graphic design expertise (i.e. Aftereffects, Blender, Cinema4D etc.). Expert level understanding of the adobe suite for graphic design, PowerPoint, and FigmaGeneral understanding of adobe suite for animation and video or comparable video/animation software. Strong experience with other design software and technologies (such as InDesign, Illustrator & Photoshop). Awareness and some basic knowledge of Cinema4D, Blender, or comparable 3D software. Must demonstrate a fresh and culturally relevant perspective on design and innovation with the ability to understand and translate the latest pop culture, fashion, graphic, and design trends into creative marketing outputs. Originality — The ability to come up with unusual or clever ideas about a given topic or situation, or to develop creative ways to solve a problem. Finesse and emotional intelligence to engage clients, listen carefully, and have reasoned and persuasive answers. Strong strategic and ideation/conceptual abilities. Demonstrated ability to translate client message into effective communications across full range of creative disciplines (web, print, video, radio, social, etc.) . Self-motivated, well organized, and up to the challenges of ever-changing timelines, requests, and deliverables. Superior presentation skills with the ability to persuade and inform, while maintaining agency standards and strategic point-of-view. Ability to take direction and translate creative across all channels. Must be industry aware: current events, trends, and general advertising culture. Ability to deal with ambiguity and can effectively cope with change, shift gears comfortably, decide and act without having the total picture, and handle uncertainty. Consumer electronics and/or automotive industry experience. \n\nWhat Is Nice To Have\n\nAbility to practice Active Listening — Giving full attention to what other people are saying, taking time to understand the points being made and asking questions as appropriate. Desire to understand the implications of new information for both current and future problem-solving and decision-making. Strong Interpersonal Skills and Diplomacy. Experience from a client service organization. 2-3 years Consumer electronics industry experience or similar. A design or creative focused degree is a plus. 3D Environmental Design Capabilities ( i.e. retail displays and environments) . Experience in using Figma Design SoftwareSomeone who maintains technical knowledge by attending design workshops; reviewing professional publications; and participating in professional societies. \n\nWhat Makes You Eligible\n\nThis role is eligible to work remotely with weekly trips into the New York City office as scheduled or requested (this could be on 24-hour notice). Mastery of the written word; fluent in verbal and written English essential. Other languages a plus. Successfully complete a background investigation and drug screen as a condition of employment. \n\nWhat We Offer\n\nAccess to employee discounts on world class HARMAN/Samsung products (JBL, Harman Kardon, AKG etc.)Professional development opportunities through HARMAN University’s business and leadership academiesFlexible work schedule with a culture encouraging work life integration and collaboration in a global environmentAn inclusive and diverse work environment that fosters and encourages professional and personal developmentTuition Reimbursement“Be Brilliant” employee recognition and rewards program\n\n",
         null,
         "0",
         "Graphic Design / Motion",
         null,
         null,
         "False",
         "Graphic Design"
        ]
       ],
       "shape": {
        "columns": 9,
        "rows": 5
       }
      },
      "text/html": [
       "<div>\n",
       "<style scoped>\n",
       "    .dataframe tbody tr th:only-of-type {\n",
       "        vertical-align: middle;\n",
       "    }\n",
       "\n",
       "    .dataframe tbody tr th {\n",
       "        vertical-align: top;\n",
       "    }\n",
       "\n",
       "    .dataframe thead th {\n",
       "        text-align: right;\n",
       "    }\n",
       "</style>\n",
       "<table border=\"1\" class=\"dataframe\">\n",
       "  <thead>\n",
       "    <tr style=\"text-align: right;\">\n",
       "      <th></th>\n",
       "      <th>title</th>\n",
       "      <th>description</th>\n",
       "      <th>skills_desc</th>\n",
       "      <th>title_cluster_10_cleaned</th>\n",
       "      <th>title_cluster_cleaned_label</th>\n",
       "      <th>cluster_2_subcluster</th>\n",
       "      <th>cluster_7_subcluster</th>\n",
       "      <th>flag_graphic_design_miscluster</th>\n",
       "      <th>Final label</th>\n",
       "    </tr>\n",
       "  </thead>\n",
       "  <tbody>\n",
       "    <tr>\n",
       "      <th>0</th>\n",
       "      <td>Motion Graphic Designer and Film Editor</td>\n",
       "      <td>Company DescriptionElica Electric Co is an ele...</td>\n",
       "      <td>NaN</td>\n",
       "      <td>0</td>\n",
       "      <td>Graphic Design / Motion</td>\n",
       "      <td>NaN</td>\n",
       "      <td>NaN</td>\n",
       "      <td>False</td>\n",
       "      <td>Graphic Design</td>\n",
       "    </tr>\n",
       "    <tr>\n",
       "      <th>1</th>\n",
       "      <td>Graphic Designer</td>\n",
       "      <td>About Us: At Puffer, our mission is to increas...</td>\n",
       "      <td>NaN</td>\n",
       "      <td>0</td>\n",
       "      <td>Graphic Design / Motion</td>\n",
       "      <td>NaN</td>\n",
       "      <td>NaN</td>\n",
       "      <td>False</td>\n",
       "      <td>Graphic Design</td>\n",
       "    </tr>\n",
       "    <tr>\n",
       "      <th>2</th>\n",
       "      <td>Graphic Designer</td>\n",
       "      <td>The ideal candidate will have strong creative ...</td>\n",
       "      <td>NaN</td>\n",
       "      <td>0</td>\n",
       "      <td>Graphic Design / Motion</td>\n",
       "      <td>NaN</td>\n",
       "      <td>NaN</td>\n",
       "      <td>False</td>\n",
       "      <td>Graphic Design</td>\n",
       "    </tr>\n",
       "    <tr>\n",
       "      <th>3</th>\n",
       "      <td>Graphic Designer</td>\n",
       "      <td>Job Title: Graphic Designer Payrate:- $35-38/h...</td>\n",
       "      <td>NaN</td>\n",
       "      <td>0</td>\n",
       "      <td>Graphic Design / Motion</td>\n",
       "      <td>NaN</td>\n",
       "      <td>NaN</td>\n",
       "      <td>False</td>\n",
       "      <td>Graphic Design</td>\n",
       "    </tr>\n",
       "    <tr>\n",
       "      <th>4</th>\n",
       "      <td>Senior Graphic Designer - Presentations</td>\n",
       "      <td>About The Role\\n\\nHuemen is looking for a Seni...</td>\n",
       "      <td>NaN</td>\n",
       "      <td>0</td>\n",
       "      <td>Graphic Design / Motion</td>\n",
       "      <td>NaN</td>\n",
       "      <td>NaN</td>\n",
       "      <td>False</td>\n",
       "      <td>Graphic Design</td>\n",
       "    </tr>\n",
       "  </tbody>\n",
       "</table>\n",
       "</div>"
      ],
      "text/plain": [
       "                                     title  \\\n",
       "0  Motion Graphic Designer and Film Editor   \n",
       "1                         Graphic Designer   \n",
       "2                         Graphic Designer   \n",
       "3                        Graphic Designer    \n",
       "4  Senior Graphic Designer - Presentations   \n",
       "\n",
       "                                         description skills_desc  \\\n",
       "0  Company DescriptionElica Electric Co is an ele...         NaN   \n",
       "1  About Us: At Puffer, our mission is to increas...         NaN   \n",
       "2  The ideal candidate will have strong creative ...         NaN   \n",
       "3  Job Title: Graphic Designer Payrate:- $35-38/h...         NaN   \n",
       "4  About The Role\\n\\nHuemen is looking for a Seni...         NaN   \n",
       "\n",
       "   title_cluster_10_cleaned title_cluster_cleaned_label  cluster_2_subcluster  \\\n",
       "0                         0     Graphic Design / Motion                   NaN   \n",
       "1                         0     Graphic Design / Motion                   NaN   \n",
       "2                         0     Graphic Design / Motion                   NaN   \n",
       "3                         0     Graphic Design / Motion                   NaN   \n",
       "4                         0     Graphic Design / Motion                   NaN   \n",
       "\n",
       "   cluster_7_subcluster  flag_graphic_design_miscluster     Final label  \n",
       "0                   NaN                           False  Graphic Design  \n",
       "1                   NaN                           False  Graphic Design  \n",
       "2                   NaN                           False  Graphic Design  \n",
       "3                   NaN                           False  Graphic Design  \n",
       "4                   NaN                           False  Graphic Design  "
      ]
     },
     "execution_count": 5,
     "metadata": {},
     "output_type": "execute_result"
    }
   ],
   "source": [
    "df.head()"
   ]
  },
  {
   "cell_type": "code",
   "execution_count": 6,
   "id": "1776f541",
   "metadata": {},
   "outputs": [],
   "source": [
    "percents = pd.read_csv('skill_subclusters_combined.csv')"
   ]
  },
  {
   "cell_type": "code",
   "execution_count": 8,
   "id": "e5a7e3d4",
   "metadata": {},
   "outputs": [
    {
     "data": {
      "application/vnd.microsoft.datawrangler.viewer.v0+json": {
       "columns": [
        {
         "name": "index",
         "rawType": "int64",
         "type": "integer"
        },
        {
         "name": "Job Category",
         "rawType": "object",
         "type": "string"
        },
        {
         "name": "Skill Subcluster",
         "rawType": "int64",
         "type": "integer"
        },
        {
         "name": "Job Count",
         "rawType": "int64",
         "type": "integer"
        },
        {
         "name": "Percentage of Category",
         "rawType": "float64",
         "type": "float"
        },
        {
         "name": "Top Terms",
         "rawType": "object",
         "type": "string"
        }
       ],
       "ref": "a1ffbd5a-0df2-47df-a9eb-e55f76119b1a",
       "rows": [
        [
         "0",
         "Graphic Design",
         "0",
         "133",
         "42.2",
         "['design', 'status', 'graphics', 'creative', 'graphic', 'company', 'customers', 'working', '00', 'production']"
        ],
        [
         "1",
         "Graphic Design",
         "1",
         "55",
         "17.5",
         "['design', 'packaging', 'product', 'designs', 'graphic', 'products', 'digital', 'development', 'data', 'print']"
        ],
        [
         "2",
         "Graphic Design",
         "2",
         "127",
         "40.3",
         "['design', 'marketing', 'digital', 'graphic', 'creative', 'brand', 'media', 'designer', 'social', 'print']"
        ],
        [
         "3",
         "Marketing",
         "0",
         "299",
         "54.8",
         "['content', 'marketing', 'digital', 'social', 'writing', 'management', 'product', 'business', 'seo', 'design']"
        ],
        [
         "4",
         "Marketing",
         "1",
         "39",
         "7.1",
         "['ai', 'chatbots', 'conversations', 'paypal', 'teach', 'usd', 'fact', 'order', 'progress', 'quality']"
        ],
        [
         "5",
         "Marketing",
         "2",
         "208",
         "38.1",
         "['social', 'media', 'marketing', 'content', 'brand', 'platforms', 'client', 'clients', 'creative', 'paid']"
        ],
        [
         "6",
         "Product and UX",
         "0",
         "163",
         "39.6",
         "['design', 'user', 'ux', 'product', 'research', 'ui', 'designer', 'designs', 'interaction', 'development']"
        ],
        [
         "7",
         "Product and UX",
         "1",
         "219",
         "53.2",
         "['design', 'web', 'content', 'product', 'user', 'digital', 'development', 'marketing', 'website', 'ux']"
        ],
        [
         "8",
         "Product and UX",
         "2",
         "30",
         "7.3",
         "['ai', 'chatbots', 'code', 'coding', 'proficient', 'able', 'quality', 'paypal', 'train', 'usd']"
        ]
       ],
       "shape": {
        "columns": 5,
        "rows": 9
       }
      },
      "text/html": [
       "<div>\n",
       "<style scoped>\n",
       "    .dataframe tbody tr th:only-of-type {\n",
       "        vertical-align: middle;\n",
       "    }\n",
       "\n",
       "    .dataframe tbody tr th {\n",
       "        vertical-align: top;\n",
       "    }\n",
       "\n",
       "    .dataframe thead th {\n",
       "        text-align: right;\n",
       "    }\n",
       "</style>\n",
       "<table border=\"1\" class=\"dataframe\">\n",
       "  <thead>\n",
       "    <tr style=\"text-align: right;\">\n",
       "      <th></th>\n",
       "      <th>Job Category</th>\n",
       "      <th>Skill Subcluster</th>\n",
       "      <th>Job Count</th>\n",
       "      <th>Percentage of Category</th>\n",
       "      <th>Top Terms</th>\n",
       "    </tr>\n",
       "  </thead>\n",
       "  <tbody>\n",
       "    <tr>\n",
       "      <th>0</th>\n",
       "      <td>Graphic Design</td>\n",
       "      <td>0</td>\n",
       "      <td>133</td>\n",
       "      <td>42.2</td>\n",
       "      <td>['design', 'status', 'graphics', 'creative', '...</td>\n",
       "    </tr>\n",
       "    <tr>\n",
       "      <th>1</th>\n",
       "      <td>Graphic Design</td>\n",
       "      <td>1</td>\n",
       "      <td>55</td>\n",
       "      <td>17.5</td>\n",
       "      <td>['design', 'packaging', 'product', 'designs', ...</td>\n",
       "    </tr>\n",
       "    <tr>\n",
       "      <th>2</th>\n",
       "      <td>Graphic Design</td>\n",
       "      <td>2</td>\n",
       "      <td>127</td>\n",
       "      <td>40.3</td>\n",
       "      <td>['design', 'marketing', 'digital', 'graphic', ...</td>\n",
       "    </tr>\n",
       "    <tr>\n",
       "      <th>3</th>\n",
       "      <td>Marketing</td>\n",
       "      <td>0</td>\n",
       "      <td>299</td>\n",
       "      <td>54.8</td>\n",
       "      <td>['content', 'marketing', 'digital', 'social', ...</td>\n",
       "    </tr>\n",
       "    <tr>\n",
       "      <th>4</th>\n",
       "      <td>Marketing</td>\n",
       "      <td>1</td>\n",
       "      <td>39</td>\n",
       "      <td>7.1</td>\n",
       "      <td>['ai', 'chatbots', 'conversations', 'paypal', ...</td>\n",
       "    </tr>\n",
       "    <tr>\n",
       "      <th>5</th>\n",
       "      <td>Marketing</td>\n",
       "      <td>2</td>\n",
       "      <td>208</td>\n",
       "      <td>38.1</td>\n",
       "      <td>['social', 'media', 'marketing', 'content', 'b...</td>\n",
       "    </tr>\n",
       "    <tr>\n",
       "      <th>6</th>\n",
       "      <td>Product and UX</td>\n",
       "      <td>0</td>\n",
       "      <td>163</td>\n",
       "      <td>39.6</td>\n",
       "      <td>['design', 'user', 'ux', 'product', 'research'...</td>\n",
       "    </tr>\n",
       "    <tr>\n",
       "      <th>7</th>\n",
       "      <td>Product and UX</td>\n",
       "      <td>1</td>\n",
       "      <td>219</td>\n",
       "      <td>53.2</td>\n",
       "      <td>['design', 'web', 'content', 'product', 'user'...</td>\n",
       "    </tr>\n",
       "    <tr>\n",
       "      <th>8</th>\n",
       "      <td>Product and UX</td>\n",
       "      <td>2</td>\n",
       "      <td>30</td>\n",
       "      <td>7.3</td>\n",
       "      <td>['ai', 'chatbots', 'code', 'coding', 'proficie...</td>\n",
       "    </tr>\n",
       "  </tbody>\n",
       "</table>\n",
       "</div>"
      ],
      "text/plain": [
       "     Job Category  Skill Subcluster  Job Count  Percentage of Category  \\\n",
       "0  Graphic Design                 0        133                    42.2   \n",
       "1  Graphic Design                 1         55                    17.5   \n",
       "2  Graphic Design                 2        127                    40.3   \n",
       "3       Marketing                 0        299                    54.8   \n",
       "4       Marketing                 1         39                     7.1   \n",
       "5       Marketing                 2        208                    38.1   \n",
       "6  Product and UX                 0        163                    39.6   \n",
       "7  Product and UX                 1        219                    53.2   \n",
       "8  Product and UX                 2         30                     7.3   \n",
       "\n",
       "                                           Top Terms  \n",
       "0  ['design', 'status', 'graphics', 'creative', '...  \n",
       "1  ['design', 'packaging', 'product', 'designs', ...  \n",
       "2  ['design', 'marketing', 'digital', 'graphic', ...  \n",
       "3  ['content', 'marketing', 'digital', 'social', ...  \n",
       "4  ['ai', 'chatbots', 'conversations', 'paypal', ...  \n",
       "5  ['social', 'media', 'marketing', 'content', 'b...  \n",
       "6  ['design', 'user', 'ux', 'product', 'research'...  \n",
       "7  ['design', 'web', 'content', 'product', 'user'...  \n",
       "8  ['ai', 'chatbots', 'code', 'coding', 'proficie...  "
      ]
     },
     "execution_count": 8,
     "metadata": {},
     "output_type": "execute_result"
    }
   ],
   "source": [
    "percents.head(20)"
   ]
  },
  {
   "cell_type": "code",
   "execution_count": 14,
   "id": "949815b3",
   "metadata": {},
   "outputs": [
    {
     "data": {
      "application/vnd.microsoft.datawrangler.viewer.v0+json": {
       "columns": [
        {
         "name": "Job Category",
         "rawType": "object",
         "type": "string"
        },
        {
         "name": "Skill Subcluster",
         "rawType": "int64",
         "type": "integer"
        },
        {
         "name": "Job Count",
         "rawType": "int64",
         "type": "integer"
        },
        {
         "name": "Percentage of Category",
         "rawType": "float64",
         "type": "float"
        },
        {
         "name": "Top Terms",
         "rawType": "object",
         "type": "string"
        }
       ],
       "ref": "50de0912-a8f6-4225-bf67-d6b3831c4632",
       "rows": [
        [
         "Graphic Design",
         "3",
         "315",
         "100.0",
         "['design', 'status', 'graphics', 'creative', 'graphic', 'company', 'customers', 'working', '00', 'production']['design', 'packaging', 'product', 'designs', 'graphic', 'products', 'digital', 'development', 'data', 'print']['design', 'marketing', 'digital', 'graphic', 'creative', 'brand', 'media', 'designer', 'social', 'print']"
        ],
        [
         "Marketing",
         "3",
         "546",
         "100.0",
         "['content', 'marketing', 'digital', 'social', 'writing', 'management', 'product', 'business', 'seo', 'design']['ai', 'chatbots', 'conversations', 'paypal', 'teach', 'usd', 'fact', 'order', 'progress', 'quality']['social', 'media', 'marketing', 'content', 'brand', 'platforms', 'client', 'clients', 'creative', 'paid']"
        ],
        [
         "Product and UX",
         "3",
         "412",
         "100.10000000000001",
         "['design', 'user', 'ux', 'product', 'research', 'ui', 'designer', 'designs', 'interaction', 'development']['design', 'web', 'content', 'product', 'user', 'digital', 'development', 'marketing', 'website', 'ux']['ai', 'chatbots', 'code', 'coding', 'proficient', 'able', 'quality', 'paypal', 'train', 'usd']"
        ]
       ],
       "shape": {
        "columns": 4,
        "rows": 3
       }
      },
      "text/html": [
       "<div>\n",
       "<style scoped>\n",
       "    .dataframe tbody tr th:only-of-type {\n",
       "        vertical-align: middle;\n",
       "    }\n",
       "\n",
       "    .dataframe tbody tr th {\n",
       "        vertical-align: top;\n",
       "    }\n",
       "\n",
       "    .dataframe thead th {\n",
       "        text-align: right;\n",
       "    }\n",
       "</style>\n",
       "<table border=\"1\" class=\"dataframe\">\n",
       "  <thead>\n",
       "    <tr style=\"text-align: right;\">\n",
       "      <th></th>\n",
       "      <th>Skill Subcluster</th>\n",
       "      <th>Job Count</th>\n",
       "      <th>Percentage of Category</th>\n",
       "      <th>Top Terms</th>\n",
       "    </tr>\n",
       "    <tr>\n",
       "      <th>Job Category</th>\n",
       "      <th></th>\n",
       "      <th></th>\n",
       "      <th></th>\n",
       "      <th></th>\n",
       "    </tr>\n",
       "  </thead>\n",
       "  <tbody>\n",
       "    <tr>\n",
       "      <th>Graphic Design</th>\n",
       "      <td>3</td>\n",
       "      <td>315</td>\n",
       "      <td>100.0</td>\n",
       "      <td>['design', 'status', 'graphics', 'creative', '...</td>\n",
       "    </tr>\n",
       "    <tr>\n",
       "      <th>Marketing</th>\n",
       "      <td>3</td>\n",
       "      <td>546</td>\n",
       "      <td>100.0</td>\n",
       "      <td>['content', 'marketing', 'digital', 'social', ...</td>\n",
       "    </tr>\n",
       "    <tr>\n",
       "      <th>Product and UX</th>\n",
       "      <td>3</td>\n",
       "      <td>412</td>\n",
       "      <td>100.1</td>\n",
       "      <td>['design', 'user', 'ux', 'product', 'research'...</td>\n",
       "    </tr>\n",
       "  </tbody>\n",
       "</table>\n",
       "</div>"
      ],
      "text/plain": [
       "                Skill Subcluster  Job Count  Percentage of Category  \\\n",
       "Job Category                                                          \n",
       "Graphic Design                 3        315                   100.0   \n",
       "Marketing                      3        546                   100.0   \n",
       "Product and UX                 3        412                   100.1   \n",
       "\n",
       "                                                        Top Terms  \n",
       "Job Category                                                       \n",
       "Graphic Design  ['design', 'status', 'graphics', 'creative', '...  \n",
       "Marketing       ['content', 'marketing', 'digital', 'social', ...  \n",
       "Product and UX  ['design', 'user', 'ux', 'product', 'research'...  "
      ]
     },
     "execution_count": 14,
     "metadata": {},
     "output_type": "execute_result"
    }
   ],
   "source": [
    "percents.groupby('Job Category').sum()"
   ]
  },
  {
   "cell_type": "code",
   "execution_count": null,
   "id": "ccec4985",
   "metadata": {},
   "outputs": [],
   "source": [
    "percents"
   ]
  }
 ],
 "metadata": {
  "kernelspec": {
   "display_name": "3.12.8",
   "language": "python",
   "name": "python3"
  },
  "language_info": {
   "codemirror_mode": {
    "name": "ipython",
    "version": 3
   },
   "file_extension": ".py",
   "mimetype": "text/x-python",
   "name": "python",
   "nbconvert_exporter": "python",
   "pygments_lexer": "ipython3",
   "version": "3.12.8"
  }
 },
 "nbformat": 4,
 "nbformat_minor": 5
}
