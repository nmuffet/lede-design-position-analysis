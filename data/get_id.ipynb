{
 "cells": [
  {
   "cell_type": "code",
   "execution_count": 1,
   "id": "9daa1fe5",
   "metadata": {},
   "outputs": [
    {
     "name": "stdout",
     "output_type": "stream",
     "text": [
      "Calculating similarity between job descriptions...\n",
      "\n",
      "Successfully matched and added company names and job IDs.\n",
      "                                     title            company_name  \\\n",
      "0  Motion Graphic Designer and Film Editor       Elica Electric Co   \n",
      "1                         Graphic Designer             Puffer Labs   \n",
      "2                         Graphic Designer  Coalition Technologies   \n",
      "3                        Graphic Designer              TekWissen ®   \n",
      "4  Senior Graphic Designer - Presentations    HARMAN International   \n",
      "\n",
      "       job_id     Final label  \n",
      "0  3407282046  Graphic Design  \n",
      "1  3869490625  Graphic Design  \n",
      "2  3870352558  Graphic Design  \n",
      "3  3884434792  Graphic Design  \n",
      "4  3884436300  Graphic Design  \n",
      "\n",
      "Your new file has been saved as 'job_postings_matched_with_companies.csv'\n"
     ]
    }
   ],
   "source": [
    "import pandas as pd\n",
    "from sklearn.feature_extraction.text import TfidfVectorizer\n",
    "from sklearn.metrics.pairwise import cosine_similarity\n",
    "import numpy as np\n",
    "\n",
    "# 1. Load your datasets\n",
    "try:\n",
    "    df_final = pd.read_csv('job_postings_with_subclusters_v4.csv')\n",
    "    df_original = pd.read_csv('postings_filtered.csv')\n",
    "except FileNotFoundError as e:\n",
    "    print(f\"Error loading file: {e}. Please ensure both CSV files are in the correct directory.\")\n",
    "    exit()\n",
    "\n",
    "\n",
    "# Ensure the description columns are clean and free of missing values (NaNs)\n",
    "df_final['description'] = df_final['description'].fillna('')\n",
    "df_original['description'] = df_original['description'].fillna('')\n",
    "\n",
    "# 2. Initialize the TF-IDF Vectorizer\n",
    "# This tool converts text into a matrix of TF-IDF features, focusing on the most significant words.\n",
    "vectorizer = TfidfVectorizer(stop_words='english', max_features=10000)\n",
    "\n",
    "# 3. Create TF-IDF vectors for the descriptions\n",
    "# Fit on the original data and transform both sets for a consistent vocabulary.\n",
    "tfidf_original = vectorizer.fit_transform(df_original['description'])\n",
    "tfidf_final = vectorizer.transform(df_final['description'])\n",
    "\n",
    "# 4. Calculate cosine similarity between the two sets of descriptions\n",
    "# This creates a similarity matrix: rows are from your final file, columns are from the original.\n",
    "print(\"Calculating similarity between job descriptions...\")\n",
    "cosine_sim_matrix = cosine_similarity(tfidf_final, tfidf_original)\n",
    "\n",
    "# 5. Find the best match for each job in your final dataframe\n",
    "# For each job in df_final, this finds the index of the most similar job in df_original.\n",
    "best_matches_indices = np.argmax(cosine_sim_matrix, axis=1)\n",
    "\n",
    "# 6. Retrieve the company name and job ID using the matched indices\n",
    "matched_company_names = df_original.loc[best_matches_indices, 'company_name'].values\n",
    "matched_job_ids = df_original.loc[best_matches_indices, 'job_id'].values\n",
    "\n",
    "# 7. Add the matched data as new columns to your final dataframe\n",
    "df_final['company_name'] = matched_company_names\n",
    "df_final['job_id'] = matched_job_ids\n",
    "\n",
    "print(\"\\nSuccessfully matched and added company names and job IDs.\")\n",
    "# Display the first few rows of the updated dataframe to verify\n",
    "print(df_final[['title', 'company_name', 'job_id', 'Final label']].head())\n",
    "\n",
    "# 8. Save the final, enriched dataframe to a new CSV file\n",
    "output_filename = 'job_postings_matched_with_companies.csv'\n",
    "df_final.to_csv(output_filename, index=False)\n",
    "\n",
    "print(f\"\\nYour new file has been saved as '{output_filename}'\")"
   ]
  }
 ],
 "metadata": {
  "kernelspec": {
   "display_name": "3.12.8",
   "language": "python",
   "name": "python3"
  },
  "language_info": {
   "codemirror_mode": {
    "name": "ipython",
    "version": 3
   },
   "file_extension": ".py",
   "mimetype": "text/x-python",
   "name": "python",
   "nbconvert_exporter": "python",
   "pygments_lexer": "ipython3",
   "version": "3.12.8"
  }
 },
 "nbformat": 4,
 "nbformat_minor": 5
}
